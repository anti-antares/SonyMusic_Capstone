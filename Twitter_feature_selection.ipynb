{
 "cells": [
  {
   "cell_type": "code",
   "execution_count": 1,
   "metadata": {},
   "outputs": [],
   "source": [
    "## required imports\n",
    "import pandas as pd\n",
    "import matplotlib.pyplot as plt\n",
    "import numpy as np\n",
    "plt.style.use('ggplot')\n",
    "%matplotlib inline\n",
    "import warnings\n",
    "warnings.filterwarnings('ignore')"
   ]
  },
  {
   "cell_type": "code",
   "execution_count": 2,
   "metadata": {},
   "outputs": [],
   "source": [
    "## read data\n",
    "df_1 = pd.read_csv('Twitter_5_year.csv')"
   ]
  },
  {
   "cell_type": "code",
   "execution_count": 3,
   "metadata": {},
   "outputs": [],
   "source": [
    "df_other_artists = pd.read_csv('SZA_Chainsmoker_Twitter.csv')"
   ]
  },
  {
   "cell_type": "code",
   "execution_count": 4,
   "metadata": {},
   "outputs": [],
   "source": [
    "df = pd.concat([df_1,df_other_artists])"
   ]
  },
  {
   "cell_type": "code",
   "execution_count": 5,
   "metadata": {},
   "outputs": [
    {
     "data": {
      "text/plain": [
       "(316205, 15)"
      ]
     },
     "execution_count": 5,
     "metadata": {},
     "output_type": "execute_result"
    }
   ],
   "source": [
    "# Shape\n",
    "df.shape "
   ]
  },
  {
   "cell_type": "code",
   "execution_count": 6,
   "metadata": {},
   "outputs": [
    {
     "data": {
      "text/plain": [
       "Index(['Account', 'User Name', 'Followers at Posting', 'Created', 'Type',\n",
       "       'Likes', 'Retweets', 'URL', 'Message', 'Screen Name', 'Link 1',\n",
       "       'Final Link 1', 'Link 2', 'Final Link 2', 'Score'],\n",
       "      dtype='object')"
      ]
     },
     "execution_count": 6,
     "metadata": {},
     "output_type": "execute_result"
    }
   ],
   "source": [
    "# Print columns\n",
    "df.columns"
   ]
  },
  {
   "cell_type": "code",
   "execution_count": 7,
   "metadata": {},
   "outputs": [
    {
     "data": {
      "text/plain": [
       "Account                    130\n",
       "User Name                  130\n",
       "Followers at Posting     88200\n",
       "Created                 314625\n",
       "Type                         6\n",
       "Likes                    24863\n",
       "Retweets                 13524\n",
       "URL                     316205\n",
       "Message                 311869\n",
       "Screen Name                144\n",
       "Link 1                  232905\n",
       "Final Link 1            230680\n",
       "Link 2                   32549\n",
       "Final Link 2             32166\n",
       "Score                     7156\n",
       "dtype: int64"
      ]
     },
     "execution_count": 7,
     "metadata": {},
     "output_type": "execute_result"
    }
   ],
   "source": [
    "df.nunique()"
   ]
  },
  {
   "cell_type": "code",
   "execution_count": 8,
   "metadata": {},
   "outputs": [
    {
     "data": {
      "text/plain": [
       "Link            150041\n",
       "Tweet            65643\n",
       "Photo            64786\n",
       "Native Video     24933\n",
       "Video            10745\n",
       "Vine                57\n",
       "Name: Type, dtype: int64"
      ]
     },
     "execution_count": 8,
     "metadata": {},
     "output_type": "execute_result"
    }
   ],
   "source": [
    "df['Type'].value_counts()"
   ]
  },
  {
   "cell_type": "code",
   "execution_count": 9,
   "metadata": {},
   "outputs": [
    {
     "data": {
      "text/plain": [
       "Account                 316205\n",
       "User Name               316205\n",
       "Followers at Posting    305308\n",
       "Created                 316205\n",
       "Type                    316205\n",
       "Likes                   316205\n",
       "Retweets                316205\n",
       "URL                     316205\n",
       "Message                 316205\n",
       "Screen Name             310605\n",
       "Link 1                  250582\n",
       "Final Link 1            250582\n",
       "Link 2                   40136\n",
       "Final Link 2             40136\n",
       "Score                   316205\n",
       "dtype: int64"
      ]
     },
     "execution_count": 9,
     "metadata": {},
     "output_type": "execute_result"
    }
   ],
   "source": [
    "df.count()"
   ]
  },
  {
   "cell_type": "code",
   "execution_count": 10,
   "metadata": {},
   "outputs": [
    {
     "data": {
      "text/plain": [
       "10897"
      ]
     },
     "execution_count": 10,
     "metadata": {},
     "output_type": "execute_result"
    }
   ],
   "source": [
    "sum(df['Followers at Posting'].isna())"
   ]
  },
  {
   "cell_type": "code",
   "execution_count": 11,
   "metadata": {},
   "outputs": [
    {
     "data": {
      "text/html": [
       "<div>\n",
       "<style scoped>\n",
       "    .dataframe tbody tr th:only-of-type {\n",
       "        vertical-align: middle;\n",
       "    }\n",
       "\n",
       "    .dataframe tbody tr th {\n",
       "        vertical-align: top;\n",
       "    }\n",
       "\n",
       "    .dataframe thead th {\n",
       "        text-align: right;\n",
       "    }\n",
       "</style>\n",
       "<table border=\"1\" class=\"dataframe\">\n",
       "  <thead>\n",
       "    <tr style=\"text-align: right;\">\n",
       "      <th></th>\n",
       "      <th>User Name</th>\n",
       "      <th>Followers at Posting</th>\n",
       "      <th>Created</th>\n",
       "      <th>Type</th>\n",
       "      <th>Likes</th>\n",
       "      <th>Retweets</th>\n",
       "      <th>Message</th>\n",
       "      <th>Score</th>\n",
       "    </tr>\n",
       "  </thead>\n",
       "  <tbody>\n",
       "    <tr>\n",
       "      <th>0</th>\n",
       "      <td>therealjuicyj</td>\n",
       "      <td>2645413.0</td>\n",
       "      <td>2019-06-13 23:49:25 EDT</td>\n",
       "      <td>Tweet</td>\n",
       "      <td>864</td>\n",
       "      <td>190</td>\n",
       "      <td>Whomever made bets made good money tonight</td>\n",
       "      <td>-3.59</td>\n",
       "    </tr>\n",
       "    <tr>\n",
       "      <th>1</th>\n",
       "      <td>lukecombs</td>\n",
       "      <td>336828.0</td>\n",
       "      <td>2019-06-13 23:18:23 EDT</td>\n",
       "      <td>Tweet</td>\n",
       "      <td>3859</td>\n",
       "      <td>102</td>\n",
       "      <td>.@nicohocking is bae</td>\n",
       "      <td>1.14</td>\n",
       "    </tr>\n",
       "    <tr>\n",
       "      <th>2</th>\n",
       "      <td>adamlambert</td>\n",
       "      <td>2477885.0</td>\n",
       "      <td>2019-06-13 23:03:07 EDT</td>\n",
       "      <td>Link</td>\n",
       "      <td>832</td>\n",
       "      <td>343</td>\n",
       "      <td>Korea! Tickets are on sale NOW for Queen + Ada...</td>\n",
       "      <td>-1.33</td>\n",
       "    </tr>\n",
       "    <tr>\n",
       "      <th>3</th>\n",
       "      <td>russdiemon</td>\n",
       "      <td>2043124.0</td>\n",
       "      <td>2019-06-13 22:56:16 EDT</td>\n",
       "      <td>Tweet</td>\n",
       "      <td>986</td>\n",
       "      <td>31</td>\n",
       "      <td>What questions y’all want @KidSuper to ask me?...</td>\n",
       "      <td>-9.22</td>\n",
       "    </tr>\n",
       "    <tr>\n",
       "      <th>4</th>\n",
       "      <td>gerardoortiznet</td>\n",
       "      <td>3082321.0</td>\n",
       "      <td>2019-06-13 22:43:58 EDT</td>\n",
       "      <td>Photo</td>\n",
       "      <td>727</td>\n",
       "      <td>76</td>\n",
       "      <td>🚘😎😜 https://t.co/4yeXAIbwA7</td>\n",
       "      <td>1.89</td>\n",
       "    </tr>\n",
       "  </tbody>\n",
       "</table>\n",
       "</div>"
      ],
      "text/plain": [
       "         User Name  Followers at Posting                  Created   Type  \\\n",
       "0    therealjuicyj             2645413.0  2019-06-13 23:49:25 EDT  Tweet   \n",
       "1        lukecombs              336828.0  2019-06-13 23:18:23 EDT  Tweet   \n",
       "2      adamlambert             2477885.0  2019-06-13 23:03:07 EDT   Link   \n",
       "3       russdiemon             2043124.0  2019-06-13 22:56:16 EDT  Tweet   \n",
       "4  gerardoortiznet             3082321.0  2019-06-13 22:43:58 EDT  Photo   \n",
       "\n",
       "   Likes  Retweets                                            Message  Score  \n",
       "0    864       190         Whomever made bets made good money tonight  -3.59  \n",
       "1   3859       102                               .@nicohocking is bae   1.14  \n",
       "2    832       343  Korea! Tickets are on sale NOW for Queen + Ada...  -1.33  \n",
       "3    986        31  What questions y’all want @KidSuper to ask me?...  -9.22  \n",
       "4    727        76                        🚘😎😜 https://t.co/4yeXAIbwA7   1.89  "
      ]
     },
     "execution_count": 11,
     "metadata": {},
     "output_type": "execute_result"
    }
   ],
   "source": [
    "df_selected = df[['User Name', 'Followers at Posting', 'Created', 'Type',\n",
    "       'Likes', 'Retweets','Message','Score']]\n",
    "df_selected.head()"
   ]
  },
  {
   "cell_type": "code",
   "execution_count": 12,
   "metadata": {},
   "outputs": [
    {
     "data": {
      "text/plain": [
       "User Name               316205\n",
       "Followers at Posting    305308\n",
       "Created                 316205\n",
       "Type                    316205\n",
       "Likes                   316205\n",
       "Retweets                316205\n",
       "Message                 316205\n",
       "Score                   316205\n",
       "dtype: int64"
      ]
     },
     "execution_count": 12,
     "metadata": {},
     "output_type": "execute_result"
    }
   ],
   "source": [
    "df_selected.count()"
   ]
  },
  {
   "cell_type": "code",
   "execution_count": 13,
   "metadata": {},
   "outputs": [],
   "source": [
    "df_selected = df_selected.dropna()\n",
    "df_selected = df_selected.reset_index(drop = True)"
   ]
  },
  {
   "cell_type": "code",
   "execution_count": 14,
   "metadata": {},
   "outputs": [
    {
     "data": {
      "text/plain": [
       "User Name               305308\n",
       "Followers at Posting    305308\n",
       "Created                 305308\n",
       "Type                    305308\n",
       "Likes                   305308\n",
       "Retweets                305308\n",
       "Message                 305308\n",
       "Score                   305308\n",
       "dtype: int64"
      ]
     },
     "execution_count": 14,
     "metadata": {},
     "output_type": "execute_result"
    }
   ],
   "source": [
    "df_selected.count()"
   ]
  },
  {
   "cell_type": "code",
   "execution_count": 15,
   "metadata": {},
   "outputs": [],
   "source": [
    "# Convert \"Created\" into datetime \n",
    "df_selected['Created'] = pd.to_datetime(df_selected['Created'])"
   ]
  },
  {
   "cell_type": "code",
   "execution_count": 16,
   "metadata": {},
   "outputs": [],
   "source": [
    "#Number of characters in message custom feature\n",
    "df_selected['message_length'] = df_selected['Message'].apply(len)"
   ]
  },
  {
   "cell_type": "code",
   "execution_count": 17,
   "metadata": {},
   "outputs": [],
   "source": [
    "#Number of hashtags custom feature\n",
    "df_selected['hashtag_count'] = df_selected.apply(lambda x: x['Message'].count('#'), axis=1)"
   ]
  },
  {
   "cell_type": "code",
   "execution_count": 18,
   "metadata": {},
   "outputs": [
    {
     "data": {
      "text/plain": [
       "Link            145209\n",
       "Photo            63159\n",
       "Tweet            62374\n",
       "Native Video     24481\n",
       "Video            10041\n",
       "Vine                44\n",
       "Name: Type, dtype: int64"
      ]
     },
     "execution_count": 18,
     "metadata": {},
     "output_type": "execute_result"
    }
   ],
   "source": [
    "# Combine post types\n",
    "df_selected['Type'].value_counts()"
   ]
  },
  {
   "cell_type": "code",
   "execution_count": 19,
   "metadata": {},
   "outputs": [],
   "source": [
    "df_selected.loc[df_selected['Type'] == 'Vine', 'Type'] = 'Video'\n",
    "df_selected.loc[df_selected['Type'] == 'Native Video', 'Type'] = 'Video'"
   ]
  },
  {
   "cell_type": "code",
   "execution_count": 20,
   "metadata": {},
   "outputs": [
    {
     "data": {
      "text/plain": [
       "Link     145209\n",
       "Photo     63159\n",
       "Tweet     62374\n",
       "Video     34566\n",
       "Name: Type, dtype: int64"
      ]
     },
     "execution_count": 20,
     "metadata": {},
     "output_type": "execute_result"
    }
   ],
   "source": [
    "df_selected['Type'].value_counts()"
   ]
  },
  {
   "cell_type": "code",
   "execution_count": 21,
   "metadata": {},
   "outputs": [],
   "source": [
    "#OHE for Type Field\n",
    "df_selected = pd.concat([df_selected,pd.get_dummies(df_selected['Type'],prefix='type')],axis=1)"
   ]
  },
  {
   "cell_type": "code",
   "execution_count": 22,
   "metadata": {},
   "outputs": [],
   "source": [
    "def time_of_day_creation(x):\n",
    "    '''\n",
    "    Takes in an integer and returns one of four time slots:\n",
    "    ['12am-6am', '6am-12pm', '12pm-6pm', '6pm-12am']\n",
    "    '''\n",
    "    \n",
    "    slots_out = ['12am-6am', '6am-12pm', '12pm-6pm', '6pm-12am']\n",
    "    slot0 = np.arange(0,6)\n",
    "    slot1 = np.arange(6,12)\n",
    "    slot2 = np.arange(12,18)\n",
    "    slot3 = np.arange(18,24)\n",
    "\n",
    "    if x in slot0:\n",
    "        return slots_out[0]\n",
    "    elif x in slot1:\n",
    "        return slots_out[1]\n",
    "    elif x in slot2:\n",
    "        return slots_out[2]\n",
    "    elif x in slot3:\n",
    "        return slots_out[3]\n",
    "    else:\n",
    "        return 'NaN'"
   ]
  },
  {
   "cell_type": "code",
   "execution_count": 23,
   "metadata": {},
   "outputs": [],
   "source": [
    "#Creating time of day buckets (e.g. 0-6am, 6-12pm, 12-6, 6-12am)\n",
    "df_selected['time_of_day'] = df_selected['Created'].apply(lambda x : time_of_day_creation(x.hour))"
   ]
  },
  {
   "cell_type": "code",
   "execution_count": 24,
   "metadata": {},
   "outputs": [],
   "source": [
    "#OHE for time of day field\n",
    "df_selected = pd.concat([df_selected,pd.get_dummies(df_selected['time_of_day'],prefix='tod')],axis=1)"
   ]
  },
  {
   "cell_type": "code",
   "execution_count": 25,
   "metadata": {},
   "outputs": [],
   "source": [
    "df_selected.sort_values(by=['User Name','Created'], inplace=True)"
   ]
  },
  {
   "cell_type": "code",
   "execution_count": 26,
   "metadata": {},
   "outputs": [],
   "source": [
    "#Time between prior and current post\n",
    "df_selected['time_since_last_post'] = df_selected.groupby('User Name')['Created'].diff()"
   ]
  },
  {
   "cell_type": "code",
   "execution_count": 27,
   "metadata": {},
   "outputs": [],
   "source": [
    "df_selected['within_week_release'] = 0"
   ]
  },
  {
   "cell_type": "code",
   "execution_count": 28,
   "metadata": {},
   "outputs": [],
   "source": [
    "df_selected['within_month_release'] = 0"
   ]
  },
  {
   "cell_type": "code",
   "execution_count": 29,
   "metadata": {},
   "outputs": [],
   "source": [
    "df_selected['social_engagement_score'] = df_selected.apply(lambda x: (x['Likes'] + x['Retweets']) / x['Followers at Posting'], axis=1)"
   ]
  },
  {
   "cell_type": "code",
   "execution_count": 30,
   "metadata": {},
   "outputs": [
    {
     "data": {
      "text/plain": [
       "count    305308.000000\n",
       "mean          0.002229\n",
       "std           0.009328\n",
       "min           0.000000\n",
       "25%           0.000067\n",
       "50%           0.000275\n",
       "75%           0.001302\n",
       "max           1.488100\n",
       "Name: social_engagement_score, dtype: float64"
      ]
     },
     "execution_count": 30,
     "metadata": {},
     "output_type": "execute_result"
    }
   ],
   "source": [
    "df_selected['social_engagement_score'].describe()"
   ]
  },
  {
   "cell_type": "code",
   "execution_count": 31,
   "metadata": {},
   "outputs": [],
   "source": [
    "df_selected = df_selected.drop(['Type','Likes', 'Retweets','time_of_day'], axis=1)"
   ]
  },
  {
   "cell_type": "code",
   "execution_count": 32,
   "metadata": {},
   "outputs": [],
   "source": [
    "df_selected.reset_index(drop=True, inplace=True)"
   ]
  },
  {
   "cell_type": "code",
   "execution_count": 33,
   "metadata": {},
   "outputs": [
    {
     "data": {
      "text/html": [
       "<div>\n",
       "<style scoped>\n",
       "    .dataframe tbody tr th:only-of-type {\n",
       "        vertical-align: middle;\n",
       "    }\n",
       "\n",
       "    .dataframe tbody tr th {\n",
       "        vertical-align: top;\n",
       "    }\n",
       "\n",
       "    .dataframe thead th {\n",
       "        text-align: right;\n",
       "    }\n",
       "</style>\n",
       "<table border=\"1\" class=\"dataframe\">\n",
       "  <thead>\n",
       "    <tr style=\"text-align: right;\">\n",
       "      <th></th>\n",
       "      <th>User Name</th>\n",
       "      <th>Followers at Posting</th>\n",
       "      <th>Created</th>\n",
       "      <th>Message</th>\n",
       "      <th>Score</th>\n",
       "      <th>message_length</th>\n",
       "      <th>hashtag_count</th>\n",
       "      <th>type_Link</th>\n",
       "      <th>type_Photo</th>\n",
       "      <th>type_Tweet</th>\n",
       "      <th>type_Video</th>\n",
       "      <th>tod_12am-6am</th>\n",
       "      <th>tod_12pm-6pm</th>\n",
       "      <th>tod_6am-12pm</th>\n",
       "      <th>tod_6pm-12am</th>\n",
       "      <th>time_since_last_post</th>\n",
       "      <th>within_week_release</th>\n",
       "      <th>within_month_release</th>\n",
       "      <th>social_engagement_score</th>\n",
       "    </tr>\n",
       "  </thead>\n",
       "  <tbody>\n",
       "    <tr>\n",
       "      <th>0</th>\n",
       "      <td>1future</td>\n",
       "      <td>1668274.0</td>\n",
       "      <td>2015-09-11 19:24:44</td>\n",
       "      <td>Download 'March Madness' on iTunes NOW!!!! htt...</td>\n",
       "      <td>-3.3</td>\n",
       "      <td>70</td>\n",
       "      <td>1</td>\n",
       "      <td>1</td>\n",
       "      <td>0</td>\n",
       "      <td>0</td>\n",
       "      <td>0</td>\n",
       "      <td>0</td>\n",
       "      <td>0</td>\n",
       "      <td>0</td>\n",
       "      <td>1</td>\n",
       "      <td>NaT</td>\n",
       "      <td>0</td>\n",
       "      <td>0</td>\n",
       "      <td>0.000225</td>\n",
       "    </tr>\n",
       "    <tr>\n",
       "      <th>1</th>\n",
       "      <td>1future</td>\n",
       "      <td>1668274.0</td>\n",
       "      <td>2015-09-11 21:42:00</td>\n",
       "      <td>Naw frfr... https://t.co/Dmav5zl5N4</td>\n",
       "      <td>-3.88</td>\n",
       "      <td>35</td>\n",
       "      <td>0</td>\n",
       "      <td>1</td>\n",
       "      <td>0</td>\n",
       "      <td>0</td>\n",
       "      <td>0</td>\n",
       "      <td>0</td>\n",
       "      <td>0</td>\n",
       "      <td>0</td>\n",
       "      <td>1</td>\n",
       "      <td>02:17:16</td>\n",
       "      <td>0</td>\n",
       "      <td>0</td>\n",
       "      <td>0.000191</td>\n",
       "    </tr>\n",
       "    <tr>\n",
       "      <th>2</th>\n",
       "      <td>1future</td>\n",
       "      <td>1668274.0</td>\n",
       "      <td>2015-09-11 22:33:50</td>\n",
       "      <td>Stream #DS2 on @Spotify NOW!!!!! http://t.co/V...</td>\n",
       "      <td>-3.14</td>\n",
       "      <td>69</td>\n",
       "      <td>2</td>\n",
       "      <td>1</td>\n",
       "      <td>0</td>\n",
       "      <td>0</td>\n",
       "      <td>0</td>\n",
       "      <td>0</td>\n",
       "      <td>0</td>\n",
       "      <td>0</td>\n",
       "      <td>1</td>\n",
       "      <td>00:51:50</td>\n",
       "      <td>0</td>\n",
       "      <td>0</td>\n",
       "      <td>0.000236</td>\n",
       "    </tr>\n",
       "    <tr>\n",
       "      <th>3</th>\n",
       "      <td>1future</td>\n",
       "      <td>1668274.0</td>\n",
       "      <td>2015-09-12 01:14:14</td>\n",
       "      <td>R/p @theshootrr https://t.co/emi7dj17hH</td>\n",
       "      <td>-7.37</td>\n",
       "      <td>39</td>\n",
       "      <td>0</td>\n",
       "      <td>1</td>\n",
       "      <td>0</td>\n",
       "      <td>0</td>\n",
       "      <td>0</td>\n",
       "      <td>1</td>\n",
       "      <td>0</td>\n",
       "      <td>0</td>\n",
       "      <td>0</td>\n",
       "      <td>02:40:24</td>\n",
       "      <td>0</td>\n",
       "      <td>0</td>\n",
       "      <td>0.000101</td>\n",
       "    </tr>\n",
       "    <tr>\n",
       "      <th>4</th>\n",
       "      <td>1future</td>\n",
       "      <td>1668274.0</td>\n",
       "      <td>2015-09-12 03:29:25</td>\n",
       "      <td>Took the stage in Toronto &amp; shit will never be...</td>\n",
       "      <td>1.17</td>\n",
       "      <td>124</td>\n",
       "      <td>1</td>\n",
       "      <td>0</td>\n",
       "      <td>0</td>\n",
       "      <td>1</td>\n",
       "      <td>0</td>\n",
       "      <td>1</td>\n",
       "      <td>0</td>\n",
       "      <td>0</td>\n",
       "      <td>0</td>\n",
       "      <td>02:15:11</td>\n",
       "      <td>0</td>\n",
       "      <td>0</td>\n",
       "      <td>0.003585</td>\n",
       "    </tr>\n",
       "  </tbody>\n",
       "</table>\n",
       "</div>"
      ],
      "text/plain": [
       "  User Name  Followers at Posting             Created  \\\n",
       "0   1future             1668274.0 2015-09-11 19:24:44   \n",
       "1   1future             1668274.0 2015-09-11 21:42:00   \n",
       "2   1future             1668274.0 2015-09-11 22:33:50   \n",
       "3   1future             1668274.0 2015-09-12 01:14:14   \n",
       "4   1future             1668274.0 2015-09-12 03:29:25   \n",
       "\n",
       "                                             Message  Score  message_length  \\\n",
       "0  Download 'March Madness' on iTunes NOW!!!! htt...   -3.3              70   \n",
       "1                Naw frfr... https://t.co/Dmav5zl5N4  -3.88              35   \n",
       "2  Stream #DS2 on @Spotify NOW!!!!! http://t.co/V...  -3.14              69   \n",
       "3            R/p @theshootrr https://t.co/emi7dj17hH  -7.37              39   \n",
       "4  Took the stage in Toronto & shit will never be...   1.17             124   \n",
       "\n",
       "   hashtag_count  type_Link  type_Photo  type_Tweet  type_Video  tod_12am-6am  \\\n",
       "0              1          1           0           0           0             0   \n",
       "1              0          1           0           0           0             0   \n",
       "2              2          1           0           0           0             0   \n",
       "3              0          1           0           0           0             1   \n",
       "4              1          0           0           1           0             1   \n",
       "\n",
       "   tod_12pm-6pm  tod_6am-12pm  tod_6pm-12am time_since_last_post  \\\n",
       "0             0             0             1                  NaT   \n",
       "1             0             0             1             02:17:16   \n",
       "2             0             0             1             00:51:50   \n",
       "3             0             0             0             02:40:24   \n",
       "4             0             0             0             02:15:11   \n",
       "\n",
       "   within_week_release  within_month_release  social_engagement_score  \n",
       "0                    0                     0                 0.000225  \n",
       "1                    0                     0                 0.000191  \n",
       "2                    0                     0                 0.000236  \n",
       "3                    0                     0                 0.000101  \n",
       "4                    0                     0                 0.003585  "
      ]
     },
     "execution_count": 33,
     "metadata": {},
     "output_type": "execute_result"
    }
   ],
   "source": [
    "df_selected.head()"
   ]
  },
  {
   "cell_type": "code",
   "execution_count": 34,
   "metadata": {},
   "outputs": [
    {
     "data": {
      "text/plain": [
       "Index(['User Name', 'Followers at Posting', 'Created', 'Message', 'Score',\n",
       "       'message_length', 'hashtag_count', 'type_Link', 'type_Photo',\n",
       "       'type_Tweet', 'type_Video', 'tod_12am-6am', 'tod_12pm-6pm',\n",
       "       'tod_6am-12pm', 'tod_6pm-12am', 'time_since_last_post',\n",
       "       'within_week_release', 'within_month_release',\n",
       "       'social_engagement_score'],\n",
       "      dtype='object')"
      ]
     },
     "execution_count": 34,
     "metadata": {},
     "output_type": "execute_result"
    }
   ],
   "source": [
    "df_selected.columns"
   ]
  },
  {
   "cell_type": "code",
   "execution_count": 35,
   "metadata": {},
   "outputs": [],
   "source": [
    "# Rename columns\n",
    "df_selected.rename(columns={\"Created\": \"created\",\n",
    "                            \"Message\": \"description\",\n",
    "                            \"Score\":\"crowdtangle_score\", \n",
    "                            \"Followers at Posting\" : \"count_of_followers\",\n",
    "                            \"tod_12am-6am\" : \"created_12am-6am\",\n",
    "                            \"tod_6am-12pm\" : \"created_6am-12pm\",\n",
    "                            \"tod_12pm-6pm\" : \"created_12pm-6pm\",\n",
    "                            \"tod_6pm-12am\" : \"created_6pm-12am\",\n",
    "                            \"User Name\" : \"Twitter_Handle\",\n",
    "                            \"message_length\":\"description_length\",\n",
    "                            \"type_Photo\":\"type_photo\",\n",
    "                            \"type_Tweet\":\"type_text\",\n",
    "                            \"type_Video\":\"type_video\",\n",
    "                            \"type_Link\":\"type_link\"\n",
    "                           }, inplace=True)"
   ]
  },
  {
   "cell_type": "code",
   "execution_count": 36,
   "metadata": {},
   "outputs": [
    {
     "data": {
      "text/html": [
       "<div>\n",
       "<style scoped>\n",
       "    .dataframe tbody tr th:only-of-type {\n",
       "        vertical-align: middle;\n",
       "    }\n",
       "\n",
       "    .dataframe tbody tr th {\n",
       "        vertical-align: top;\n",
       "    }\n",
       "\n",
       "    .dataframe thead th {\n",
       "        text-align: right;\n",
       "    }\n",
       "</style>\n",
       "<table border=\"1\" class=\"dataframe\">\n",
       "  <thead>\n",
       "    <tr style=\"text-align: right;\">\n",
       "      <th></th>\n",
       "      <th>Twitter_Handle</th>\n",
       "      <th>count_of_followers</th>\n",
       "      <th>created</th>\n",
       "      <th>description</th>\n",
       "      <th>crowdtangle_score</th>\n",
       "      <th>description_length</th>\n",
       "      <th>hashtag_count</th>\n",
       "      <th>type_link</th>\n",
       "      <th>type_photo</th>\n",
       "      <th>type_text</th>\n",
       "      <th>type_video</th>\n",
       "      <th>created_12am-6am</th>\n",
       "      <th>created_12pm-6pm</th>\n",
       "      <th>created_6am-12pm</th>\n",
       "      <th>created_6pm-12am</th>\n",
       "      <th>time_since_last_post</th>\n",
       "      <th>within_week_release</th>\n",
       "      <th>within_month_release</th>\n",
       "      <th>social_engagement_score</th>\n",
       "    </tr>\n",
       "  </thead>\n",
       "  <tbody>\n",
       "    <tr>\n",
       "      <th>0</th>\n",
       "      <td>1future</td>\n",
       "      <td>1668274.0</td>\n",
       "      <td>2015-09-11 19:24:44</td>\n",
       "      <td>Download 'March Madness' on iTunes NOW!!!! htt...</td>\n",
       "      <td>-3.3</td>\n",
       "      <td>70</td>\n",
       "      <td>1</td>\n",
       "      <td>1</td>\n",
       "      <td>0</td>\n",
       "      <td>0</td>\n",
       "      <td>0</td>\n",
       "      <td>0</td>\n",
       "      <td>0</td>\n",
       "      <td>0</td>\n",
       "      <td>1</td>\n",
       "      <td>NaT</td>\n",
       "      <td>0</td>\n",
       "      <td>0</td>\n",
       "      <td>0.000225</td>\n",
       "    </tr>\n",
       "    <tr>\n",
       "      <th>1</th>\n",
       "      <td>1future</td>\n",
       "      <td>1668274.0</td>\n",
       "      <td>2015-09-11 21:42:00</td>\n",
       "      <td>Naw frfr... https://t.co/Dmav5zl5N4</td>\n",
       "      <td>-3.88</td>\n",
       "      <td>35</td>\n",
       "      <td>0</td>\n",
       "      <td>1</td>\n",
       "      <td>0</td>\n",
       "      <td>0</td>\n",
       "      <td>0</td>\n",
       "      <td>0</td>\n",
       "      <td>0</td>\n",
       "      <td>0</td>\n",
       "      <td>1</td>\n",
       "      <td>02:17:16</td>\n",
       "      <td>0</td>\n",
       "      <td>0</td>\n",
       "      <td>0.000191</td>\n",
       "    </tr>\n",
       "    <tr>\n",
       "      <th>2</th>\n",
       "      <td>1future</td>\n",
       "      <td>1668274.0</td>\n",
       "      <td>2015-09-11 22:33:50</td>\n",
       "      <td>Stream #DS2 on @Spotify NOW!!!!! http://t.co/V...</td>\n",
       "      <td>-3.14</td>\n",
       "      <td>69</td>\n",
       "      <td>2</td>\n",
       "      <td>1</td>\n",
       "      <td>0</td>\n",
       "      <td>0</td>\n",
       "      <td>0</td>\n",
       "      <td>0</td>\n",
       "      <td>0</td>\n",
       "      <td>0</td>\n",
       "      <td>1</td>\n",
       "      <td>00:51:50</td>\n",
       "      <td>0</td>\n",
       "      <td>0</td>\n",
       "      <td>0.000236</td>\n",
       "    </tr>\n",
       "    <tr>\n",
       "      <th>3</th>\n",
       "      <td>1future</td>\n",
       "      <td>1668274.0</td>\n",
       "      <td>2015-09-12 01:14:14</td>\n",
       "      <td>R/p @theshootrr https://t.co/emi7dj17hH</td>\n",
       "      <td>-7.37</td>\n",
       "      <td>39</td>\n",
       "      <td>0</td>\n",
       "      <td>1</td>\n",
       "      <td>0</td>\n",
       "      <td>0</td>\n",
       "      <td>0</td>\n",
       "      <td>1</td>\n",
       "      <td>0</td>\n",
       "      <td>0</td>\n",
       "      <td>0</td>\n",
       "      <td>02:40:24</td>\n",
       "      <td>0</td>\n",
       "      <td>0</td>\n",
       "      <td>0.000101</td>\n",
       "    </tr>\n",
       "    <tr>\n",
       "      <th>4</th>\n",
       "      <td>1future</td>\n",
       "      <td>1668274.0</td>\n",
       "      <td>2015-09-12 03:29:25</td>\n",
       "      <td>Took the stage in Toronto &amp; shit will never be...</td>\n",
       "      <td>1.17</td>\n",
       "      <td>124</td>\n",
       "      <td>1</td>\n",
       "      <td>0</td>\n",
       "      <td>0</td>\n",
       "      <td>1</td>\n",
       "      <td>0</td>\n",
       "      <td>1</td>\n",
       "      <td>0</td>\n",
       "      <td>0</td>\n",
       "      <td>0</td>\n",
       "      <td>02:15:11</td>\n",
       "      <td>0</td>\n",
       "      <td>0</td>\n",
       "      <td>0.003585</td>\n",
       "    </tr>\n",
       "  </tbody>\n",
       "</table>\n",
       "</div>"
      ],
      "text/plain": [
       "  Twitter_Handle  count_of_followers             created  \\\n",
       "0        1future           1668274.0 2015-09-11 19:24:44   \n",
       "1        1future           1668274.0 2015-09-11 21:42:00   \n",
       "2        1future           1668274.0 2015-09-11 22:33:50   \n",
       "3        1future           1668274.0 2015-09-12 01:14:14   \n",
       "4        1future           1668274.0 2015-09-12 03:29:25   \n",
       "\n",
       "                                         description crowdtangle_score  \\\n",
       "0  Download 'March Madness' on iTunes NOW!!!! htt...              -3.3   \n",
       "1                Naw frfr... https://t.co/Dmav5zl5N4             -3.88   \n",
       "2  Stream #DS2 on @Spotify NOW!!!!! http://t.co/V...             -3.14   \n",
       "3            R/p @theshootrr https://t.co/emi7dj17hH             -7.37   \n",
       "4  Took the stage in Toronto & shit will never be...              1.17   \n",
       "\n",
       "   description_length  hashtag_count  type_link  type_photo  type_text  \\\n",
       "0                  70              1          1           0          0   \n",
       "1                  35              0          1           0          0   \n",
       "2                  69              2          1           0          0   \n",
       "3                  39              0          1           0          0   \n",
       "4                 124              1          0           0          1   \n",
       "\n",
       "   type_video  created_12am-6am  created_12pm-6pm  created_6am-12pm  \\\n",
       "0           0                 0                 0                 0   \n",
       "1           0                 0                 0                 0   \n",
       "2           0                 0                 0                 0   \n",
       "3           0                 1                 0                 0   \n",
       "4           0                 1                 0                 0   \n",
       "\n",
       "   created_6pm-12am time_since_last_post  within_week_release  \\\n",
       "0                 1                  NaT                    0   \n",
       "1                 1             02:17:16                    0   \n",
       "2                 1             00:51:50                    0   \n",
       "3                 0             02:40:24                    0   \n",
       "4                 0             02:15:11                    0   \n",
       "\n",
       "   within_month_release  social_engagement_score  \n",
       "0                     0                 0.000225  \n",
       "1                     0                 0.000191  \n",
       "2                     0                 0.000236  \n",
       "3                     0                 0.000101  \n",
       "4                     0                 0.003585  "
      ]
     },
     "execution_count": 36,
     "metadata": {},
     "output_type": "execute_result"
    }
   ],
   "source": [
    "df_selected.head()"
   ]
  },
  {
   "cell_type": "code",
   "execution_count": 37,
   "metadata": {},
   "outputs": [],
   "source": [
    "df_selected['posts_last_7days'] = 0\n",
    "df_selected['posts_last_30days'] = 0"
   ]
  },
  {
   "cell_type": "code",
   "execution_count": 38,
   "metadata": {},
   "outputs": [
    {
     "data": {
      "text/plain": [
       "Index(['Twitter_Handle', 'count_of_followers', 'created', 'description',\n",
       "       'crowdtangle_score', 'description_length', 'hashtag_count', 'type_link',\n",
       "       'type_photo', 'type_text', 'type_video', 'created_12am-6am',\n",
       "       'created_12pm-6pm', 'created_6am-12pm', 'created_6pm-12am',\n",
       "       'time_since_last_post', 'within_week_release', 'within_month_release',\n",
       "       'social_engagement_score', 'posts_last_7days', 'posts_last_30days'],\n",
       "      dtype='object')"
      ]
     },
     "execution_count": 38,
     "metadata": {},
     "output_type": "execute_result"
    }
   ],
   "source": [
    "# Missing dataframe columns\n",
    "df_selected.columns"
   ]
  },
  {
   "cell_type": "code",
   "execution_count": 39,
   "metadata": {},
   "outputs": [],
   "source": [
    "df_selected.to_csv('twitter_features.csv')"
   ]
  }
 ],
 "metadata": {
  "kernelspec": {
   "display_name": "Python 3",
   "language": "python",
   "name": "python3"
  },
  "language_info": {
   "codemirror_mode": {
    "name": "ipython",
    "version": 3
   },
   "file_extension": ".py",
   "mimetype": "text/x-python",
   "name": "python",
   "nbconvert_exporter": "python",
   "pygments_lexer": "ipython3",
   "version": "3.7.2"
  }
 },
 "nbformat": 4,
 "nbformat_minor": 2
}
