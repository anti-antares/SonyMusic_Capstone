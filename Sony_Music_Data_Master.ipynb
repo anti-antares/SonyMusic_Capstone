{
 "cells": [
  {
   "cell_type": "code",
   "execution_count": 1,
   "metadata": {},
   "outputs": [],
   "source": [
    "import pandas as pd"
   ]
  },
  {
   "cell_type": "code",
   "execution_count": 2,
   "metadata": {},
   "outputs": [],
   "source": [
    "time_range = pd.date_range(start='1/1/2017', end='6/30/2019', freq='H').to_frame(index=False)"
   ]
  },
  {
   "cell_type": "code",
   "execution_count": 3,
   "metadata": {},
   "outputs": [],
   "source": [
    "artists = pd.read_csv('Data/artists_master.csv',sep=':')"
   ]
  },
  {
   "cell_type": "code",
   "execution_count": 4,
   "metadata": {},
   "outputs": [],
   "source": [
    "time_range['join_key'] = 0\n",
    "artists['join_key'] = 0"
   ]
  },
  {
   "cell_type": "code",
   "execution_count": 5,
   "metadata": {},
   "outputs": [],
   "source": [
    "artists_time_range = artists.merge(time_range, how='left', on = 'join_key')\n",
    "artists_time_range.drop('join_key',1, inplace=True)\n",
    "artists_time_range.rename(columns={0: 'Time Period'}, inplace=True)"
   ]
  },
  {
   "cell_type": "code",
   "execution_count": 6,
   "metadata": {},
   "outputs": [],
   "source": [
    "# Read twitter data and join with master\n",
    "twitter_data = pd.read_csv('Data/twitter_5yrs_agg.csv', index_col=0)\n",
    "twitter_data.columns = ['Twitter User Name', 'Twitter Created_Hour', 'Twitter Post Count', 'Twitter Followers at Posting', 'Twitter Likes', 'Twitter Retweets']\n",
    "twitter_data['Twitter Created_Hour'] = pd.to_datetime(twitter_data['Twitter Created_Hour'])"
   ]
  },
  {
   "cell_type": "code",
   "execution_count": 7,
   "metadata": {},
   "outputs": [],
   "source": [
    "combined_master = pd.merge(artists_time_range, twitter_data, how='left', left_on=['Twitter','Time Period'], right_on=['Twitter User Name','Twitter Created_Hour'])"
   ]
  },
  {
   "cell_type": "code",
   "execution_count": 8,
   "metadata": {},
   "outputs": [],
   "source": [
    "# Read facebook data and join with master\n",
    "facebook_data = pd.read_csv('Data/facebook_7yrs_agg.csv', index_col=0)\n",
    "facebook_data['FB Created_Hour'] = pd.to_datetime(facebook_data['FB Created_Hour'])"
   ]
  },
  {
   "cell_type": "code",
   "execution_count": 9,
   "metadata": {},
   "outputs": [],
   "source": [
    "combined_master = pd.merge(combined_master, facebook_data, how='left', left_on=['Facebook','Time Period'], right_on=['FB User Name','FB Created_Hour'])"
   ]
  },
  {
   "cell_type": "code",
   "execution_count": 10,
   "metadata": {},
   "outputs": [],
   "source": [
    "# Read Instagram Data and join with master\n",
    "instagram_data = pd.read_csv('Data/instagram_7yrs_agg.csv', index_col=0)\n",
    "instagram_data.columns = ['Instagram User Name', 'Instagram Created_Hour', 'Instagram Post Count', 'Instagram Followers at Posting', 'Instagram Likes']\n",
    "instagram_data['Instagram Created_Hour'] = pd.to_datetime(instagram_data['Instagram Created_Hour'])"
   ]
  },
  {
   "cell_type": "code",
   "execution_count": 11,
   "metadata": {},
   "outputs": [],
   "source": [
    "combined_master = pd.merge(combined_master, instagram_data, how='left', left_on=['Instagram','Time Period'], right_on=['Instagram User Name','Instagram Created_Hour'])"
   ]
  },
  {
   "cell_type": "code",
   "execution_count": 12,
   "metadata": {},
   "outputs": [],
   "source": [
    "# Read Youtube data and join with master\n",
    "# Read Instagram Data and join with master\n",
    "#youtube_data = pd.read_csv('Data/youtube_agg.csv', index_col=0)\n",
    "#youtube_data.columns = ['Instagram User Name', 'Instagram Created_Hour', 'Instagram Post Count', 'Instagram Followers at Posting', 'Instagram Likes']\n",
    "#youtube_data['Instagram Created_Hour'] = pd.to_datetime(instagram_data['Instagram Created_Hour'])"
   ]
  },
  {
   "cell_type": "code",
   "execution_count": 13,
   "metadata": {},
   "outputs": [],
   "source": [
    "#combined_master = pd.merge(combined_master, instagram_data, how='left', left_on=['Instagram','Time Period'], right_on=['Instagram User Name','Instagram Created_Hour'])"
   ]
  },
  {
   "cell_type": "code",
   "execution_count": 14,
   "metadata": {},
   "outputs": [],
   "source": [
    "combined_master.to_csv('Data/artist_social_media_combined.csv')"
   ]
  }
 ],
 "metadata": {
  "kernelspec": {
   "display_name": "Python 3",
   "language": "python",
   "name": "python3"
  },
  "language_info": {
   "codemirror_mode": {
    "name": "ipython",
    "version": 3
   },
   "file_extension": ".py",
   "mimetype": "text/x-python",
   "name": "python",
   "nbconvert_exporter": "python",
   "pygments_lexer": "ipython3",
   "version": "3.7.2"
  }
 },
 "nbformat": 4,
 "nbformat_minor": 2
}
