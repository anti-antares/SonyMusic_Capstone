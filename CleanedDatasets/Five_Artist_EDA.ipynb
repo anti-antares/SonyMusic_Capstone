{
 "cells": [
  {
   "cell_type": "markdown",
   "metadata": {},
   "source": [
    "## Import Statements"
   ]
  },
  {
   "cell_type": "code",
   "execution_count": 1,
   "metadata": {},
   "outputs": [],
   "source": [
    "import pandas as pd\n",
    "import numpy as np\n",
    "import datetime\n",
    "import matplotlib.pyplot as plt\n",
    "import matplotlib.dates as mdates\n",
    "from collections import Counter"
   ]
  },
  {
   "cell_type": "code",
   "execution_count": 2,
   "metadata": {},
   "outputs": [
    {
     "name": "stderr",
     "output_type": "stream",
     "text": [
      "C:\\Users\\oldye\\Anaconda3\\lib\\site-packages\\IPython\\core\\interactiveshell.py:3049: DtypeWarning: Columns (14) have mixed types. Specify dtype option on import or set low_memory=False.\n",
      "  interactivity=interactivity, compiler=compiler, result=result)\n"
     ]
    }
   ],
   "source": [
    "df = pd.read_csv('Combined_Social_Data.csv')"
   ]
  },
  {
   "cell_type": "code",
   "execution_count": 4,
   "metadata": {},
   "outputs": [
    {
     "data": {
      "text/plain": [
       "(993810, 44)"
      ]
     },
     "execution_count": 4,
     "metadata": {},
     "output_type": "execute_result"
    }
   ],
   "source": [
    "df.shape"
   ]
  },
  {
   "cell_type": "code",
   "execution_count": 8,
   "metadata": {},
   "outputs": [
    {
     "data": {
      "text/html": [
       "<div>\n",
       "<style scoped>\n",
       "    .dataframe tbody tr th:only-of-type {\n",
       "        vertical-align: middle;\n",
       "    }\n",
       "\n",
       "    .dataframe tbody tr th {\n",
       "        vertical-align: top;\n",
       "    }\n",
       "\n",
       "    .dataframe thead th {\n",
       "        text-align: right;\n",
       "    }\n",
       "</style>\n",
       "<table border=\"1\" class=\"dataframe\">\n",
       "  <thead>\n",
       "    <tr style=\"text-align: right;\">\n",
       "      <th></th>\n",
       "      <th>0</th>\n",
       "      <th>1</th>\n",
       "      <th>2</th>\n",
       "    </tr>\n",
       "  </thead>\n",
       "  <tbody>\n",
       "    <tr>\n",
       "      <th>Unnamed: 0</th>\n",
       "      <td>0</td>\n",
       "      <td>1</td>\n",
       "      <td>2</td>\n",
       "    </tr>\n",
       "    <tr>\n",
       "      <th>Facebook</th>\n",
       "      <td>1</td>\n",
       "      <td>1</td>\n",
       "      <td>1</td>\n",
       "    </tr>\n",
       "    <tr>\n",
       "      <th>Instagram</th>\n",
       "      <td>0</td>\n",
       "      <td>0</td>\n",
       "      <td>0</td>\n",
       "    </tr>\n",
       "    <tr>\n",
       "      <th>Twitter</th>\n",
       "      <td>0</td>\n",
       "      <td>0</td>\n",
       "      <td>0</td>\n",
       "    </tr>\n",
       "    <tr>\n",
       "      <th>Youtube</th>\n",
       "      <td>0</td>\n",
       "      <td>0</td>\n",
       "      <td>0</td>\n",
       "    </tr>\n",
       "    <tr>\n",
       "      <th>age</th>\n",
       "      <td>26</td>\n",
       "      <td>26</td>\n",
       "      <td>26</td>\n",
       "    </tr>\n",
       "    <tr>\n",
       "      <th>artist_name_x</th>\n",
       "      <td>21Savage</td>\n",
       "      <td>21Savage</td>\n",
       "      <td>21Savage</td>\n",
       "    </tr>\n",
       "    <tr>\n",
       "      <th>artist_name_y</th>\n",
       "      <td>21 Savage</td>\n",
       "      <td>21 Savage</td>\n",
       "      <td>21 Savage</td>\n",
       "    </tr>\n",
       "    <tr>\n",
       "      <th>count_of_followers</th>\n",
       "      <td>NaN</td>\n",
       "      <td>NaN</td>\n",
       "      <td>NaN</td>\n",
       "    </tr>\n",
       "    <tr>\n",
       "      <th>created</th>\n",
       "      <td>5/18/15 19:24</td>\n",
       "      <td>5/25/15 16:00</td>\n",
       "      <td>5/25/15 22:26</td>\n",
       "    </tr>\n",
       "    <tr>\n",
       "      <th>created_12am-6am</th>\n",
       "      <td>0</td>\n",
       "      <td>0</td>\n",
       "      <td>0</td>\n",
       "    </tr>\n",
       "    <tr>\n",
       "      <th>created_12pm-6pm</th>\n",
       "      <td>0</td>\n",
       "      <td>1</td>\n",
       "      <td>0</td>\n",
       "    </tr>\n",
       "    <tr>\n",
       "      <th>created_6am-12pm</th>\n",
       "      <td>0</td>\n",
       "      <td>0</td>\n",
       "      <td>0</td>\n",
       "    </tr>\n",
       "    <tr>\n",
       "      <th>created_6pm-12am</th>\n",
       "      <td>1</td>\n",
       "      <td>0</td>\n",
       "      <td>1</td>\n",
       "    </tr>\n",
       "    <tr>\n",
       "      <th>crowdtangle_score</th>\n",
       "      <td>-354.2</td>\n",
       "      <td>-16.5</td>\n",
       "      <td>-62.3</td>\n",
       "    </tr>\n",
       "    <tr>\n",
       "      <th>description</th>\n",
       "      <td>Slaughter Tape coming 5.25.15</td>\n",
       "      <td>The Slaughter Tape released May 25, 2015.</td>\n",
       "      <td>s/o The FADER for fuckin wit me http://www.the...</td>\n",
       "    </tr>\n",
       "    <tr>\n",
       "      <th>description_length</th>\n",
       "      <td>29</td>\n",
       "      <td>41</td>\n",
       "      <td>107</td>\n",
       "    </tr>\n",
       "    <tr>\n",
       "      <th>facebook</th>\n",
       "      <td>21Savage</td>\n",
       "      <td>21Savage</td>\n",
       "      <td>21Savage</td>\n",
       "    </tr>\n",
       "    <tr>\n",
       "      <th>genre_blues</th>\n",
       "      <td>0</td>\n",
       "      <td>0</td>\n",
       "      <td>0</td>\n",
       "    </tr>\n",
       "    <tr>\n",
       "      <th>genre_country</th>\n",
       "      <td>0</td>\n",
       "      <td>0</td>\n",
       "      <td>0</td>\n",
       "    </tr>\n",
       "    <tr>\n",
       "      <th>genre_electronic</th>\n",
       "      <td>0</td>\n",
       "      <td>0</td>\n",
       "      <td>0</td>\n",
       "    </tr>\n",
       "    <tr>\n",
       "      <th>genre_folk</th>\n",
       "      <td>0</td>\n",
       "      <td>0</td>\n",
       "      <td>0</td>\n",
       "    </tr>\n",
       "    <tr>\n",
       "      <th>genre_hip_hop</th>\n",
       "      <td>1</td>\n",
       "      <td>1</td>\n",
       "      <td>1</td>\n",
       "    </tr>\n",
       "    <tr>\n",
       "      <th>genre_jazz</th>\n",
       "      <td>0</td>\n",
       "      <td>0</td>\n",
       "      <td>0</td>\n",
       "    </tr>\n",
       "    <tr>\n",
       "      <th>genre_pop</th>\n",
       "      <td>0</td>\n",
       "      <td>0</td>\n",
       "      <td>0</td>\n",
       "    </tr>\n",
       "    <tr>\n",
       "      <th>genre_r_and_b</th>\n",
       "      <td>0</td>\n",
       "      <td>0</td>\n",
       "      <td>0</td>\n",
       "    </tr>\n",
       "    <tr>\n",
       "      <th>genre_rock</th>\n",
       "      <td>0</td>\n",
       "      <td>0</td>\n",
       "      <td>0</td>\n",
       "    </tr>\n",
       "    <tr>\n",
       "      <th>genre_spiritual</th>\n",
       "      <td>0</td>\n",
       "      <td>0</td>\n",
       "      <td>0</td>\n",
       "    </tr>\n",
       "    <tr>\n",
       "      <th>genre_world_music</th>\n",
       "      <td>0</td>\n",
       "      <td>0</td>\n",
       "      <td>0</td>\n",
       "    </tr>\n",
       "    <tr>\n",
       "      <th>hashtag_count</th>\n",
       "      <td>0</td>\n",
       "      <td>0</td>\n",
       "      <td>0</td>\n",
       "    </tr>\n",
       "    <tr>\n",
       "      <th>instagram</th>\n",
       "      <td>21savage</td>\n",
       "      <td>21savage</td>\n",
       "      <td>21savage</td>\n",
       "    </tr>\n",
       "    <tr>\n",
       "      <th>posts_last_30days</th>\n",
       "      <td>0</td>\n",
       "      <td>0</td>\n",
       "      <td>0</td>\n",
       "    </tr>\n",
       "    <tr>\n",
       "      <th>posts_last_7days</th>\n",
       "      <td>0</td>\n",
       "      <td>0</td>\n",
       "      <td>0</td>\n",
       "    </tr>\n",
       "    <tr>\n",
       "      <th>social_engagement_score</th>\n",
       "      <td>NaN</td>\n",
       "      <td>NaN</td>\n",
       "      <td>NaN</td>\n",
       "    </tr>\n",
       "    <tr>\n",
       "      <th>time_since_last_post</th>\n",
       "      <td>NaN</td>\n",
       "      <td>6 days 20:35:37.000000000</td>\n",
       "      <td>0 days 06:26:12.000000000</td>\n",
       "    </tr>\n",
       "    <tr>\n",
       "      <th>twitter</th>\n",
       "      <td>21savage</td>\n",
       "      <td>21savage</td>\n",
       "      <td>21savage</td>\n",
       "    </tr>\n",
       "    <tr>\n",
       "      <th>type_link</th>\n",
       "      <td>0</td>\n",
       "      <td>0</td>\n",
       "      <td>1</td>\n",
       "    </tr>\n",
       "    <tr>\n",
       "      <th>type_photo</th>\n",
       "      <td>0</td>\n",
       "      <td>1</td>\n",
       "      <td>0</td>\n",
       "    </tr>\n",
       "    <tr>\n",
       "      <th>type_text</th>\n",
       "      <td>1</td>\n",
       "      <td>0</td>\n",
       "      <td>0</td>\n",
       "    </tr>\n",
       "    <tr>\n",
       "      <th>type_video</th>\n",
       "      <td>0</td>\n",
       "      <td>0</td>\n",
       "      <td>0</td>\n",
       "    </tr>\n",
       "    <tr>\n",
       "      <th>within_month_release</th>\n",
       "      <td>0</td>\n",
       "      <td>0</td>\n",
       "      <td>0</td>\n",
       "    </tr>\n",
       "    <tr>\n",
       "      <th>within_week_release</th>\n",
       "      <td>0</td>\n",
       "      <td>0</td>\n",
       "      <td>0</td>\n",
       "    </tr>\n",
       "    <tr>\n",
       "      <th>years_active</th>\n",
       "      <td>5</td>\n",
       "      <td>5</td>\n",
       "      <td>5</td>\n",
       "    </tr>\n",
       "    <tr>\n",
       "      <th>youtube</th>\n",
       "      <td>21 Savage</td>\n",
       "      <td>21 Savage</td>\n",
       "      <td>21 Savage</td>\n",
       "    </tr>\n",
       "  </tbody>\n",
       "</table>\n",
       "</div>"
      ],
      "text/plain": [
       "                                                     0  \\\n",
       "Unnamed: 0                                           0   \n",
       "Facebook                                             1   \n",
       "Instagram                                            0   \n",
       "Twitter                                              0   \n",
       "Youtube                                              0   \n",
       "age                                                 26   \n",
       "artist_name_x                                 21Savage   \n",
       "artist_name_y                                21 Savage   \n",
       "count_of_followers                                 NaN   \n",
       "created                                  5/18/15 19:24   \n",
       "created_12am-6am                                     0   \n",
       "created_12pm-6pm                                     0   \n",
       "created_6am-12pm                                     0   \n",
       "created_6pm-12am                                     1   \n",
       "crowdtangle_score                               -354.2   \n",
       "description              Slaughter Tape coming 5.25.15   \n",
       "description_length                                  29   \n",
       "facebook                                      21Savage   \n",
       "genre_blues                                          0   \n",
       "genre_country                                        0   \n",
       "genre_electronic                                     0   \n",
       "genre_folk                                           0   \n",
       "genre_hip_hop                                        1   \n",
       "genre_jazz                                           0   \n",
       "genre_pop                                            0   \n",
       "genre_r_and_b                                        0   \n",
       "genre_rock                                           0   \n",
       "genre_spiritual                                      0   \n",
       "genre_world_music                                    0   \n",
       "hashtag_count                                        0   \n",
       "instagram                                     21savage   \n",
       "posts_last_30days                                    0   \n",
       "posts_last_7days                                     0   \n",
       "social_engagement_score                            NaN   \n",
       "time_since_last_post                               NaN   \n",
       "twitter                                       21savage   \n",
       "type_link                                            0   \n",
       "type_photo                                           0   \n",
       "type_text                                            1   \n",
       "type_video                                           0   \n",
       "within_month_release                                 0   \n",
       "within_week_release                                  0   \n",
       "years_active                                         5   \n",
       "youtube                                      21 Savage   \n",
       "\n",
       "                                                                 1  \\\n",
       "Unnamed: 0                                                       1   \n",
       "Facebook                                                         1   \n",
       "Instagram                                                        0   \n",
       "Twitter                                                          0   \n",
       "Youtube                                                          0   \n",
       "age                                                             26   \n",
       "artist_name_x                                             21Savage   \n",
       "artist_name_y                                            21 Savage   \n",
       "count_of_followers                                             NaN   \n",
       "created                                              5/25/15 16:00   \n",
       "created_12am-6am                                                 0   \n",
       "created_12pm-6pm                                                 1   \n",
       "created_6am-12pm                                                 0   \n",
       "created_6pm-12am                                                 0   \n",
       "crowdtangle_score                                            -16.5   \n",
       "description              The Slaughter Tape released May 25, 2015.   \n",
       "description_length                                              41   \n",
       "facebook                                                  21Savage   \n",
       "genre_blues                                                      0   \n",
       "genre_country                                                    0   \n",
       "genre_electronic                                                 0   \n",
       "genre_folk                                                       0   \n",
       "genre_hip_hop                                                    1   \n",
       "genre_jazz                                                       0   \n",
       "genre_pop                                                        0   \n",
       "genre_r_and_b                                                    0   \n",
       "genre_rock                                                       0   \n",
       "genre_spiritual                                                  0   \n",
       "genre_world_music                                                0   \n",
       "hashtag_count                                                    0   \n",
       "instagram                                                 21savage   \n",
       "posts_last_30days                                                0   \n",
       "posts_last_7days                                                 0   \n",
       "social_engagement_score                                        NaN   \n",
       "time_since_last_post                     6 days 20:35:37.000000000   \n",
       "twitter                                                   21savage   \n",
       "type_link                                                        0   \n",
       "type_photo                                                       1   \n",
       "type_text                                                        0   \n",
       "type_video                                                       0   \n",
       "within_month_release                                             0   \n",
       "within_week_release                                              0   \n",
       "years_active                                                     5   \n",
       "youtube                                                  21 Savage   \n",
       "\n",
       "                                                                         2  \n",
       "Unnamed: 0                                                               2  \n",
       "Facebook                                                                 1  \n",
       "Instagram                                                                0  \n",
       "Twitter                                                                  0  \n",
       "Youtube                                                                  0  \n",
       "age                                                                     26  \n",
       "artist_name_x                                                     21Savage  \n",
       "artist_name_y                                                    21 Savage  \n",
       "count_of_followers                                                     NaN  \n",
       "created                                                      5/25/15 22:26  \n",
       "created_12am-6am                                                         0  \n",
       "created_12pm-6pm                                                         0  \n",
       "created_6am-12pm                                                         0  \n",
       "created_6pm-12am                                                         1  \n",
       "crowdtangle_score                                                    -62.3  \n",
       "description              s/o The FADER for fuckin wit me http://www.the...  \n",
       "description_length                                                     107  \n",
       "facebook                                                          21Savage  \n",
       "genre_blues                                                              0  \n",
       "genre_country                                                            0  \n",
       "genre_electronic                                                         0  \n",
       "genre_folk                                                               0  \n",
       "genre_hip_hop                                                            1  \n",
       "genre_jazz                                                               0  \n",
       "genre_pop                                                                0  \n",
       "genre_r_and_b                                                            0  \n",
       "genre_rock                                                               0  \n",
       "genre_spiritual                                                          0  \n",
       "genre_world_music                                                        0  \n",
       "hashtag_count                                                            0  \n",
       "instagram                                                         21savage  \n",
       "posts_last_30days                                                        0  \n",
       "posts_last_7days                                                         0  \n",
       "social_engagement_score                                                NaN  \n",
       "time_since_last_post                             0 days 06:26:12.000000000  \n",
       "twitter                                                           21savage  \n",
       "type_link                                                                1  \n",
       "type_photo                                                               0  \n",
       "type_text                                                                0  \n",
       "type_video                                                               0  \n",
       "within_month_release                                                     0  \n",
       "within_week_release                                                      0  \n",
       "years_active                                                             5  \n",
       "youtube                                                          21 Savage  "
      ]
     },
     "execution_count": 8,
     "metadata": {},
     "output_type": "execute_result"
    }
   ],
   "source": [
    "df.head(3).T"
   ]
  },
  {
   "cell_type": "code",
   "execution_count": 13,
   "metadata": {},
   "outputs": [],
   "source": [
    "top_5 = ['Justin Timberlake', 'Maluma', 'Pink', 'Avril Lavigne', 'Willie Nelson']\n",
    "df = df[df['artist_name_y'].isin (top_5)]"
   ]
  },
  {
   "cell_type": "code",
   "execution_count": 15,
   "metadata": {},
   "outputs": [
    {
     "name": "stdout",
     "output_type": "stream",
     "text": [
      "(30553, 44)\n"
     ]
    },
    {
     "data": {
      "text/plain": [
       "Counter({'Maluma': 16816,\n",
       "         'Willie Nelson': 4570,\n",
       "         'Avril Lavigne': 2695,\n",
       "         'Justin Timberlake': 3117,\n",
       "         'Pink': 3355})"
      ]
     },
     "execution_count": 15,
     "metadata": {},
     "output_type": "execute_result"
    }
   ],
   "source": [
    "print(df.shape)\n",
    "Counter(df['artist_name_y'])"
   ]
  },
  {
   "cell_type": "code",
   "execution_count": 110,
   "metadata": {},
   "outputs": [],
   "source": [
    "df_mb = pd.read_csv('musicbrainz_data.csv')"
   ]
  },
  {
   "cell_type": "code",
   "execution_count": 138,
   "metadata": {},
   "outputs": [],
   "source": [
    "df_mb['release_date'] = pd.to_datetime(df_mb['release_date'])"
   ]
  },
  {
   "cell_type": "code",
   "execution_count": 139,
   "metadata": {},
   "outputs": [
    {
     "data": {
      "text/html": [
       "<div>\n",
       "<style scoped>\n",
       "    .dataframe tbody tr th:only-of-type {\n",
       "        vertical-align: middle;\n",
       "    }\n",
       "\n",
       "    .dataframe tbody tr th {\n",
       "        vertical-align: top;\n",
       "    }\n",
       "\n",
       "    .dataframe thead th {\n",
       "        text-align: right;\n",
       "    }\n",
       "</style>\n",
       "<table border=\"1\" class=\"dataframe\">\n",
       "  <thead>\n",
       "    <tr style=\"text-align: right;\">\n",
       "      <th></th>\n",
       "      <th>Unnamed: 0</th>\n",
       "      <th>artist_name</th>\n",
       "      <th>title</th>\n",
       "      <th>release_date</th>\n",
       "      <th>primary_type</th>\n",
       "    </tr>\n",
       "  </thead>\n",
       "  <tbody>\n",
       "    <tr>\n",
       "      <th>0</th>\n",
       "      <td>0</td>\n",
       "      <td>21 Savage</td>\n",
       "      <td>Savage</td>\n",
       "      <td>1982-01-01</td>\n",
       "      <td>Album</td>\n",
       "    </tr>\n",
       "    <tr>\n",
       "      <th>1</th>\n",
       "      <td>1</td>\n",
       "      <td>21 Savage</td>\n",
       "      <td>Savage Mode</td>\n",
       "      <td>2016-07-15</td>\n",
       "      <td>Album</td>\n",
       "    </tr>\n",
       "  </tbody>\n",
       "</table>\n",
       "</div>"
      ],
      "text/plain": [
       "   Unnamed: 0 artist_name        title release_date primary_type\n",
       "0           0   21 Savage       Savage   1982-01-01        Album\n",
       "1           1   21 Savage  Savage Mode   2016-07-15        Album"
      ]
     },
     "execution_count": 139,
     "metadata": {},
     "output_type": "execute_result"
    }
   ],
   "source": [
    "df_mb.head(2)"
   ]
  },
  {
   "cell_type": "markdown",
   "metadata": {},
   "source": [
    "##### Data Clean"
   ]
  },
  {
   "cell_type": "code",
   "execution_count": 25,
   "metadata": {},
   "outputs": [],
   "source": [
    "#Drop all social engagement score = NAN\n",
    "df.dropna(subset=['social_engagement_score'], inplace=True)"
   ]
  },
  {
   "cell_type": "code",
   "execution_count": 26,
   "metadata": {},
   "outputs": [
    {
     "data": {
      "text/plain": [
       "(25232, 44)"
      ]
     },
     "execution_count": 26,
     "metadata": {},
     "output_type": "execute_result"
    }
   ],
   "source": [
    "df.shape"
   ]
  },
  {
   "cell_type": "code",
   "execution_count": 66,
   "metadata": {},
   "outputs": [
    {
     "name": "stdout",
     "output_type": "stream",
     "text": [
      "Facebook  average score is:  0.0043924376086625205\n",
      "Instagram  average score is:  0.025580819602437795\n",
      "Twitter  average score is:  0.0006220480809761633\n",
      "Youtube  average score is:  6.178918149258157\n"
     ]
    }
   ],
   "source": [
    "#Average social_engagement scores by channel\n",
    "social_channels = ['Facebook', 'Instagram', 'Twitter', 'Youtube']\n",
    "for social in social_channels:\n",
    "    print(social, \" average score is: \", df[df[social] == 1]['social_engagement_score'].mean())"
   ]
  },
  {
   "cell_type": "markdown",
   "metadata": {},
   "source": [
    "## First Artist (Justin Timberlake)"
   ]
  },
  {
   "cell_type": "code",
   "execution_count": 33,
   "metadata": {},
   "outputs": [],
   "source": [
    "df_justin = df[df['artist_name_y'] == 'Justin Timberlake']"
   ]
  },
  {
   "cell_type": "code",
   "execution_count": 113,
   "metadata": {},
   "outputs": [],
   "source": [
    "df_mb_justin = df_mb[df_mb['artist_name'] == 'Justin Timberlake']"
   ]
  },
  {
   "cell_type": "code",
   "execution_count": 143,
   "metadata": {},
   "outputs": [
    {
     "name": "stderr",
     "output_type": "stream",
     "text": [
      "C:\\Users\\oldye\\Anaconda3\\lib\\site-packages\\ipykernel_launcher.py:1: SettingWithCopyWarning: \n",
      "A value is trying to be set on a copy of a slice from a DataFrame\n",
      "\n",
      "See the caveats in the documentation: http://pandas.pydata.org/pandas-docs/stable/indexing.html#indexing-view-versus-copy\n",
      "  \"\"\"Entry point for launching an IPython kernel.\n"
     ]
    }
   ],
   "source": [
    "df_mb_justin.sort_values('release_date', inplace=True)"
   ]
  },
  {
   "cell_type": "code",
   "execution_count": 145,
   "metadata": {},
   "outputs": [
    {
     "data": {
      "text/plain": [
       "<matplotlib.collections.PathCollection at 0x2be8fb05550>"
      ]
     },
     "execution_count": 145,
     "metadata": {},
     "output_type": "execute_result"
    },
    {
     "data": {
      "image/png": "[encoded data removed]",
      "text/plain": [
       "<Figure size 1440x504 with 1 Axes>"
      ]
     },
     "metadata": {
      "needs_background": "light"
     },
     "output_type": "display_data"
    }
   ],
   "source": [
    "y = [1] * len(df_mb_justin['release_date'])\n",
    "df_mb_justin['release_date']\n",
    "fig = plt.figure(figsize=(20,7))\n",
    "ax = fig.add_subplot(1,1,1)\n",
    "ax.scatter(df_mb_justin['release_date'],y)"
   ]
  },
  {
   "cell_type": "code",
   "execution_count": 160,
   "metadata": {},
   "outputs": [],
   "source": [
    "df_mb_justin = df_mb_justin[pd.to_datetime(df_mb_justin['release_date'])>pd.to_datetime(min(df_justin['created']))]"
   ]
  },
  {
   "cell_type": "code",
   "execution_count": 161,
   "metadata": {},
   "outputs": [
    {
     "data": {
      "text/html": [
       "<div>\n",
       "<style scoped>\n",
       "    .dataframe tbody tr th:only-of-type {\n",
       "        vertical-align: middle;\n",
       "    }\n",
       "\n",
       "    .dataframe tbody tr th {\n",
       "        vertical-align: top;\n",
       "    }\n",
       "\n",
       "    .dataframe thead th {\n",
       "        text-align: right;\n",
       "    }\n",
       "</style>\n",
       "<table border=\"1\" class=\"dataframe\">\n",
       "  <thead>\n",
       "    <tr style=\"text-align: right;\">\n",
       "      <th></th>\n",
       "      <th>Unnamed: 0</th>\n",
       "      <th>artist_name</th>\n",
       "      <th>title</th>\n",
       "      <th>release_date</th>\n",
       "      <th>primary_type</th>\n",
       "    </tr>\n",
       "  </thead>\n",
       "  <tbody>\n",
       "    <tr>\n",
       "      <th>834</th>\n",
       "      <td>834</td>\n",
       "      <td>Justin Timberlake</td>\n",
       "      <td>Lullaby Renditions of Justin Timberlake</td>\n",
       "      <td>2017-08-18</td>\n",
       "      <td>Album</td>\n",
       "    </tr>\n",
       "  </tbody>\n",
       "</table>\n",
       "</div>"
      ],
      "text/plain": [
       "     Unnamed: 0        artist_name                                    title  \\\n",
       "834         834  Justin Timberlake  Lullaby Renditions of Justin Timberlake   \n",
       "\n",
       "    release_date primary_type  \n",
       "834   2017-08-18        Album  "
      ]
     },
     "execution_count": 161,
     "metadata": {},
     "output_type": "execute_result"
    }
   ],
   "source": [
    "df_mb_justin"
   ]
  },
  {
   "cell_type": "code",
   "execution_count": 162,
   "metadata": {},
   "outputs": [
    {
     "data": {
      "text/plain": [
       "<matplotlib.collections.PathCollection at 0x2be8e045470>"
      ]
     },
     "execution_count": 162,
     "metadata": {},
     "output_type": "execute_result"
    },
    {
     "data": {
      "image/png": "[encoded data removed]",
      "text/plain": [
       "<Figure size 1440x504 with 1 Axes>"
      ]
     },
     "metadata": {
      "needs_background": "light"
     },
     "output_type": "display_data"
    }
   ],
   "source": [
    "y = [1] * len(df_mb_justin['release_date'])\n",
    "df_mb_justin['release_date']\n",
    "fig = plt.figure(figsize=(20,7))\n",
    "ax = fig.add_subplot(1,1,1)\n",
    "ax.scatter(df_mb_justin['release_date'],y)"
   ]
  },
  {
   "cell_type": "code",
   "execution_count": 65,
   "metadata": {},
   "outputs": [
    {
     "name": "stdout",
     "output_type": "stream",
     "text": [
      "Facebook  average score is:  0.0011089281750000003\n",
      "Instagram  average score is:  0.0171043810398623\n",
      "Twitter  average score is:  0.0002114041755736423\n",
      "Youtube  average score is:  9.568330678523816\n"
     ]
    }
   ],
   "source": [
    "#Average social_engagement scores by channel\n",
    "social_channels = ['Facebook', 'Instagram', 'Twitter', 'Youtube']\n",
    "for social in social_channels:\n",
    "    print(social, \" average score is: \", df_justin[df_justin[social] == 1]['social_engagement_score'].mean())"
   ]
  },
  {
   "cell_type": "code",
   "execution_count": 71,
   "metadata": {},
   "outputs": [],
   "source": [
    "#Removing Youtube due to outweight\n",
    "social_channels = ['Facebook', 'Instagram', 'Twitter', 'Youtube']"
   ]
  },
  {
   "cell_type": "code",
   "execution_count": 164,
   "metadata": {},
   "outputs": [
    {
     "data": {
      "image/png": "[encoded data removed]",
      "text/plain": [
       "<Figure size 1440x504 with 2 Axes>"
      ]
     },
     "metadata": {
      "needs_background": "light"
     },
     "output_type": "display_data"
    }
   ],
   "source": [
    "#Creates a date range for each social media platform and uses # of periods equal to # of posts for X axis.\n",
    "#For y axis, only grabs the social engagement scores for that platform\n",
    "\n",
    "fig = plt.figure(figsize=(20,7))\n",
    "ax = fig.add_subplot(1,1,1)\n",
    "ax2 = ax.twinx()\n",
    "#markers_on = [1,10, 50, 70]\n",
    "for social in social_channels:\n",
    "    daterange = pd.date_range(min(df_justin[df_justin[social]==1]['created']),\n",
    "                                max(df_justin[df_justin[social]==1]['created']),\n",
    "                                periods=len(df_justin[df_justin[social] == 1]['social_engagement_score']))\n",
    "    if (social == 'Youtube'):\n",
    "        ax2.plot(daterange,df_justin[df_justin[social] == 1]['social_engagement_score'],'C7')\n",
    "    else:\n",
    "        ax.plot(daterange,df_justin[df_justin[social] == 1]['social_engagement_score'])\n",
    "\n",
    "ax.legend(social_channels[:3]) \n",
    "ax2.legend('Youtube',loc=5)   #Not sure why just a 'Y' is showing      \n",
    "\n",
    "#-------------------------------------------------------------------------------\n",
    "#Plotting the dots for release dates\n",
    "#Not quite working correctly atm\n",
    "\n",
    "\n",
    "y = [.1] * len(df_mb_justin['release_date'])\n",
    "\n",
    "#daterange2 = pd.date_range(min(df_justin['created']),\n",
    "#                            max(df_justin['created']),\n",
    "#                            periods=len(df_justin['social_engagement_score']))\n",
    "\n",
    "ax.plot(df_mb_justin['release_date'], y)\n",
    "\n",
    "\n",
    "plt.show()\n",
    "#ax.xaxis.set_major_locator(mdates.MonthLocator(interval=4)) #how to get to show months instead?"
   ]
  },
  {
   "cell_type": "markdown",
   "metadata": {},
   "source": [
    "# "
   ]
  }
 ],
 "metadata": {
  "kernelspec": {
   "display_name": "Python 3",
   "language": "python",
   "name": "python3"
  },
  "language_info": {
   "codemirror_mode": {
    "name": "ipython",
    "version": 3
   },
   "file_extension": ".py",
   "mimetype": "text/x-python",
   "name": "python",
   "nbconvert_exporter": "python",
   "pygments_lexer": "ipython3",
   "version": "3.7.3"
  }
 },
 "nbformat": 4,
 "nbformat_minor": 2
}
