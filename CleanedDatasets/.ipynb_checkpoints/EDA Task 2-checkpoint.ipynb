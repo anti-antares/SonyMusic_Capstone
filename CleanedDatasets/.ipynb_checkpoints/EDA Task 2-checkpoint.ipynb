{
 "cells": [
  {
   "cell_type": "code",
   "execution_count": 1,
   "metadata": {},
   "outputs": [],
   "source": [
    "## required imports\n",
    "import pandas as pd\n",
    "import matplotlib.pyplot as plt\n",
    "import numpy as np\n",
    "plt.style.use('ggplot')\n",
    "%matplotlib inline"
   ]
  },
  {
   "cell_type": "code",
   "execution_count": 68,
   "metadata": {},
   "outputs": [],
   "source": [
    "## Read data\n",
    "df = pd.read_pickle(\"Combined_Social_Data_Pickle.pkl\")"
   ]
  },
  {
   "cell_type": "code",
   "execution_count": 69,
   "metadata": {},
   "outputs": [
    {
     "data": {
      "text/plain": [
       "(1008733, 43)"
      ]
     },
     "execution_count": 69,
     "metadata": {},
     "output_type": "execute_result"
    }
   ],
   "source": [
    "## Date Checks\n",
    "df.shape\n",
    "# df.loc[(df['artist_name_x']=='gentedezona') & (df['description'].str.contains('#Repost from @randy_malcom'))][['description', 'artist_name_x']]"
   ]
  },
  {
   "cell_type": "markdown",
   "metadata": {},
   "source": [
    "1. How many artists of each genre? DONE\n",
    "    -how does age of artist vary across genre?\n",
    "    -how does years active of artist vary across\n",
    "2. How many posts of each genre? DONE\n",
    "3. How many artists of each genre post on each of 4 platforms? DONE (Explained by Note)\n",
    "    -How does this vary overtime?\n",
    "4. What is distribution of age of artists that post on each of 4 platforms?\n",
    "5. What time of day do artists of each genre post?\n",
    "6. How does # of posts differ for each genre? \n",
    "7. What types of posts are common for each genre?"
   ]
  },
  {
   "cell_type": "code",
   "execution_count": 73,
   "metadata": {},
   "outputs": [],
   "source": [
    "## rename genre columns\n",
    "df.rename({'genre_blues':'Blues', 'genre_country':'Country', 'genre_electronic':'Electronic', 'genre_folk':'Folk',\n",
    "       'genre_hip_hop':'Hip Hop', 'genre_jazz':'Jazz', 'genre_pop':'Pop', 'genre_r_and_b':'R&B',\n",
    "       'genre_rock':'Rock', 'genre_spiritual':'Spiritual', 'genre_world_music':'World Music'}, inplace =True)"
   ]
  },
  {
   "cell_type": "code",
   "execution_count": 217,
   "metadata": {},
   "outputs": [],
   "source": [
    "## create platform column\n",
    "df[\"Social Platform\"] =0\n",
    "df.loc[df['Facebook'] == 1, 'Social Platform'] = 'Facebook'\n",
    "df.loc[df['Instagram'] == 1, 'Social Platform'] = 'Instagram'\n",
    "df.loc[df['Twitter'] == 1, 'Social Platform'] = 'Twitter'\n",
    "df.loc[df['Youtube'] == 1, 'Social Platform'] = 'Youtube'"
   ]
  },
  {
   "cell_type": "code",
   "execution_count": 243,
   "metadata": {
    "scrolled": true
   },
   "outputs": [
    {
     "name": "stdout",
     "output_type": "stream",
     "text": [
      "Note: 61 artists have 2 genres, others have 1 genre\n"
     ]
    },
    {
     "data": {
      "image/png": "[encoded data removed]",
      "text/plain": [
       "<Figure size 720x360 with 1 Axes>"
      ]
     },
     "metadata": {
      "needs_background": "light"
     },
     "output_type": "display_data"
    }
   ],
   "source": [
    "## Count of artists in each genre\n",
    "genres = ['Blues', 'Country', 'Electronic', 'Folk', 'Hip Hop', 'Jazz', 'Pop', 'R&B', 'Rock', 'Spiritual', 'World Music']\n",
    "df_artist_genre = df[['artist_name_y', 'age', 'years_active', 'Social Platform', 'Blues', 'Country', 'Electronic', 'Folk', 'Hip Hop', 'Jazz', 'Pop', 'R&B', 'Rock', 'Spiritual', 'World Music']].drop_duplicates()\n",
    "df_artist_genre_plot = df_artist_genre[genres].sum()\n",
    "\n",
    "print(\"Note 1: 61 artists have 2 genres, others have 1 genre\")\n",
    "print(\"Note 2: All artists post on all platforms (except 7 artists who don't have Youtube posts)\")\n",
    "\n",
    "ax = df_artist_genre_plot.plot.bar(rot=45,  figsize=(10,5))\n",
    "ax.set_xlabel(\"Genre\")\n",
    "ax.set_ylabel(\"Count of Artists\")\n",
    "plt.show()\n",
    "      "
   ]
  },
  {
   "cell_type": "code",
   "execution_count": 246,
   "metadata": {},
   "outputs": [
    {
     "data": {
      "text/html": [
       "<div>\n",
       "<style scoped>\n",
       "    .dataframe tbody tr th:only-of-type {\n",
       "        vertical-align: middle;\n",
       "    }\n",
       "\n",
       "    .dataframe tbody tr th {\n",
       "        vertical-align: top;\n",
       "    }\n",
       "\n",
       "    .dataframe thead th {\n",
       "        text-align: right;\n",
       "    }\n",
       "</style>\n",
       "<table border=\"1\" class=\"dataframe\">\n",
       "  <thead>\n",
       "    <tr style=\"text-align: right;\">\n",
       "      <th></th>\n",
       "      <th>Blues</th>\n",
       "      <th>Country</th>\n",
       "      <th>Electronic</th>\n",
       "      <th>Folk</th>\n",
       "      <th>Hip Hop</th>\n",
       "      <th>Jazz</th>\n",
       "      <th>Pop</th>\n",
       "      <th>R&amp;B</th>\n",
       "      <th>Rock</th>\n",
       "      <th>Spiritual</th>\n",
       "      <th>World Music</th>\n",
       "    </tr>\n",
       "    <tr>\n",
       "      <th>Social Platform</th>\n",
       "      <th></th>\n",
       "      <th></th>\n",
       "      <th></th>\n",
       "      <th></th>\n",
       "      <th></th>\n",
       "      <th></th>\n",
       "      <th></th>\n",
       "      <th></th>\n",
       "      <th></th>\n",
       "      <th></th>\n",
       "      <th></th>\n",
       "    </tr>\n",
       "  </thead>\n",
       "  <tbody>\n",
       "    <tr>\n",
       "      <th>Facebook</th>\n",
       "      <td>1</td>\n",
       "      <td>7</td>\n",
       "      <td>8</td>\n",
       "      <td>3</td>\n",
       "      <td>30</td>\n",
       "      <td>2</td>\n",
       "      <td>50</td>\n",
       "      <td>41</td>\n",
       "      <td>31</td>\n",
       "      <td>2</td>\n",
       "      <td>15</td>\n",
       "    </tr>\n",
       "    <tr>\n",
       "      <th>Instagram</th>\n",
       "      <td>1</td>\n",
       "      <td>7</td>\n",
       "      <td>8</td>\n",
       "      <td>3</td>\n",
       "      <td>30</td>\n",
       "      <td>2</td>\n",
       "      <td>50</td>\n",
       "      <td>41</td>\n",
       "      <td>31</td>\n",
       "      <td>2</td>\n",
       "      <td>15</td>\n",
       "    </tr>\n",
       "    <tr>\n",
       "      <th>Twitter</th>\n",
       "      <td>1</td>\n",
       "      <td>7</td>\n",
       "      <td>8</td>\n",
       "      <td>3</td>\n",
       "      <td>30</td>\n",
       "      <td>2</td>\n",
       "      <td>50</td>\n",
       "      <td>41</td>\n",
       "      <td>31</td>\n",
       "      <td>2</td>\n",
       "      <td>15</td>\n",
       "    </tr>\n",
       "    <tr>\n",
       "      <th>Youtube</th>\n",
       "      <td>1</td>\n",
       "      <td>7</td>\n",
       "      <td>8</td>\n",
       "      <td>3</td>\n",
       "      <td>25</td>\n",
       "      <td>2</td>\n",
       "      <td>50</td>\n",
       "      <td>39</td>\n",
       "      <td>31</td>\n",
       "      <td>2</td>\n",
       "      <td>14</td>\n",
       "    </tr>\n",
       "  </tbody>\n",
       "</table>\n",
       "</div>"
      ],
      "text/plain": [
       "                 Blues  Country  Electronic  Folk  Hip Hop  Jazz  Pop  R&B  \\\n",
       "Social Platform                                                              \n",
       "Facebook             1        7           8     3       30     2   50   41   \n",
       "Instagram            1        7           8     3       30     2   50   41   \n",
       "Twitter              1        7           8     3       30     2   50   41   \n",
       "Youtube              1        7           8     3       25     2   50   39   \n",
       "\n",
       "                 Rock  Spiritual  World Music  \n",
       "Social Platform                                \n",
       "Facebook           31          2           15  \n",
       "Instagram          31          2           15  \n",
       "Twitter            31          2           15  \n",
       "Youtube            31          2           14  "
      ]
     },
     "execution_count": 246,
     "metadata": {},
     "output_type": "execute_result"
    }
   ],
   "source": [
    "# df_artist_genre_platform = df_artist_genre.groupby('Social Platform')[genres].sum()\n",
    "# df_artist_genre_platform\n",
    "# # df_artist_genre_platform_plot = df_artist_genre_platform.T\n",
    "# # df_artist_genre_platform_plot.plot(kind='bar', stacked=True, rot=45,  figsize=(10,5))"
   ]
  },
  {
   "cell_type": "code",
   "execution_count": 235,
   "metadata": {},
   "outputs": [
    {
     "data": {
      "image/png": "[encoded data removed]",
      "text/plain": [
       "<Figure size 720x360 with 1 Axes>"
      ]
     },
     "metadata": {
      "needs_background": "light"
     },
     "output_type": "display_data"
    }
   ],
   "source": [
    "## Count of posts in each genre\n",
    "genres = ['Blues', 'Country', 'Electronic', 'Folk', 'Hip Hop', 'Jazz', 'Pop', 'R&B', 'Rock', 'Spiritual', 'World Music']\n",
    "df_posts_genre = df[['created', 'Social Platform', 'Blues', 'Country', 'Electronic', 'Folk', 'Hip Hop', 'Jazz', 'Pop', 'R&B', 'Rock', 'Spiritual', 'World Music']]\n",
    "df_posts_genre_plot = df_posts_genre[genres].sum()\n",
    "\n",
    "## plot without platform breakdown:\n",
    "# ax = df_posts_genre_plot.plot.bar(rot=45,  figsize=(10,5))\n",
    "# ax.set_xlabel(\"Genre\")\n",
    "# ax.set_ylabel(\"Count of Posts\")\n",
    "# plt.show()\n",
    "\n",
    "## plot with platform breakdown:\n",
    "df_posts_genre_platform = df_posts_genre.groupby('Social Platform')[genres].sum()\n",
    "df_posts_genre_platform_plot = df_posts_genre_platform.T\n",
    "ax = df_posts_genre_platform_plot.plot(kind='bar', stacked=True, rot=45,  figsize=(10,5))\n",
    "ax.set_xlabel(\"Genre\")\n",
    "ax.set_ylabel(\"Count of Posts\")\n",
    "plt.show()"
   ]
  },
  {
   "cell_type": "code",
   "execution_count": 221,
   "metadata": {},
   "outputs": [
    {
     "data": {
      "text/plain": [
       "Index(['Facebook', 'Instagram', 'Twitter', 'Youtube', 'age', 'artist_name_x',\n",
       "       'artist_name_y', 'count_of_followers', 'created', 'created_12am-6am',\n",
       "       'created_12pm-6pm', 'created_6am-12pm', 'created_6pm-12am',\n",
       "       'crowdtangle_score', 'description', 'description_length', 'facebook',\n",
       "       'Blues', 'Country', 'Electronic', 'Folk', 'Hip Hop', 'Jazz', 'Pop',\n",
       "       'R&B', 'Rock', 'Spiritual', 'World Music', 'hashtag_count', 'instagram',\n",
       "       'posts_last_30days', 'posts_last_7days', 'social_engagement_score',\n",
       "       'time_since_last_post', 'twitter', 'type_link', 'type_photo',\n",
       "       'type_text', 'type_video', 'within_month_release',\n",
       "       'within_week_release', 'years_active', 'youtube', 'social_platform',\n",
       "       'Social Platform'],\n",
       "      dtype='object')"
      ]
     },
     "execution_count": 221,
     "metadata": {},
     "output_type": "execute_result"
    }
   ],
   "source": [
    "df.columns"
   ]
  },
  {
   "cell_type": "code",
   "execution_count": null,
   "metadata": {},
   "outputs": [],
   "source": []
  }
 ],
 "metadata": {
  "kernelspec": {
   "display_name": "Python 3",
   "language": "python",
   "name": "python3"
  },
  "language_info": {
   "codemirror_mode": {
    "name": "ipython",
    "version": 3
   },
   "file_extension": ".py",
   "mimetype": "text/x-python",
   "name": "python",
   "nbconvert_exporter": "python",
   "pygments_lexer": "ipython3",
   "version": "3.6.8"
  }
 },
 "nbformat": 4,
 "nbformat_minor": 2
}
