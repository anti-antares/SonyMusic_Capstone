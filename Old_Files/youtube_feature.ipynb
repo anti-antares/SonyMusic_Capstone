{
 "cells": [
  {
   "cell_type": "code",
   "execution_count": 71,
   "metadata": {},
   "outputs": [],
   "source": [
    "import pandas as pd\n",
    "import seaborn as sns\n",
    "import numpy as np\n",
    "import dateutil.parser\n",
    "from dateutil.tz import gettz\n",
    "from dateutil import tz\n",
    "from datetime import datetime\n",
    "import time\n",
    "import matplotlib"
   ]
  },
  {
   "cell_type": "code",
   "execution_count": 51,
   "metadata": {},
   "outputs": [],
   "source": [
    "youtube_data = pd.read_csv('youtube_features.csv')"
   ]
  },
  {
   "cell_type": "code",
   "execution_count": 52,
   "metadata": {},
   "outputs": [
    {
     "data": {
      "text/html": [
       "<div>\n",
       "<style scoped>\n",
       "    .dataframe tbody tr th:only-of-type {\n",
       "        vertical-align: middle;\n",
       "    }\n",
       "\n",
       "    .dataframe tbody tr th {\n",
       "        vertical-align: top;\n",
       "    }\n",
       "\n",
       "    .dataframe thead th {\n",
       "        text-align: right;\n",
       "    }\n",
       "</style>\n",
       "<table border=\"1\" class=\"dataframe\">\n",
       "  <thead>\n",
       "    <tr style=\"text-align: right;\">\n",
       "      <th></th>\n",
       "      <th>artist</th>\n",
       "      <th>video</th>\n",
       "      <th>time</th>\n",
       "      <th>viewCount</th>\n",
       "      <th>likeCount</th>\n",
       "      <th>dislikeCount</th>\n",
       "      <th>favoriteCount</th>\n",
       "      <th>commentCount</th>\n",
       "      <th>viewChannel</th>\n",
       "      <th>subscriberChannel</th>\n",
       "    </tr>\n",
       "  </thead>\n",
       "  <tbody>\n",
       "    <tr>\n",
       "      <th>0</th>\n",
       "      <td>21 Savage</td>\n",
       "      <td>21 Savage - A Lot (Official Audio)</td>\n",
       "      <td>2018-12-21T05:50:39.000Z</td>\n",
       "      <td>44797321</td>\n",
       "      <td>470630</td>\n",
       "      <td>17408</td>\n",
       "      <td>0</td>\n",
       "      <td>22894</td>\n",
       "      <td>1505671577</td>\n",
       "      <td>6007813</td>\n",
       "    </tr>\n",
       "    <tr>\n",
       "      <th>1</th>\n",
       "      <td>21 Savage</td>\n",
       "      <td>21 Savage - Break Da Law (Official Audio)</td>\n",
       "      <td>2018-12-21T01:58:31.000Z</td>\n",
       "      <td>4748384</td>\n",
       "      <td>60817</td>\n",
       "      <td>1333</td>\n",
       "      <td>0</td>\n",
       "      <td>1473</td>\n",
       "      <td>1505671577</td>\n",
       "      <td>6007813</td>\n",
       "    </tr>\n",
       "    <tr>\n",
       "      <th>2</th>\n",
       "      <td>21 Savage</td>\n",
       "      <td>21 Savage - A&amp;T (Official Audio)</td>\n",
       "      <td>2018-12-21T01:58:31.000Z</td>\n",
       "      <td>3252885</td>\n",
       "      <td>43697</td>\n",
       "      <td>1478</td>\n",
       "      <td>0</td>\n",
       "      <td>1643</td>\n",
       "      <td>1505671577</td>\n",
       "      <td>6007813</td>\n",
       "    </tr>\n",
       "    <tr>\n",
       "      <th>3</th>\n",
       "      <td>21 Savage</td>\n",
       "      <td>21 Savage - Out For The Night (Official Audio)</td>\n",
       "      <td>2018-12-21T01:58:31.000Z</td>\n",
       "      <td>2656637</td>\n",
       "      <td>42803</td>\n",
       "      <td>635</td>\n",
       "      <td>0</td>\n",
       "      <td>1417</td>\n",
       "      <td>1505671577</td>\n",
       "      <td>6007813</td>\n",
       "    </tr>\n",
       "    <tr>\n",
       "      <th>4</th>\n",
       "      <td>21 Savage</td>\n",
       "      <td>21 Savage - Gun Smoke (Official Audio)</td>\n",
       "      <td>2018-12-21T01:58:31.000Z</td>\n",
       "      <td>5712582</td>\n",
       "      <td>66269</td>\n",
       "      <td>1269</td>\n",
       "      <td>0</td>\n",
       "      <td>2300</td>\n",
       "      <td>1505671577</td>\n",
       "      <td>6007813</td>\n",
       "    </tr>\n",
       "  </tbody>\n",
       "</table>\n",
       "</div>"
      ],
      "text/plain": [
       "      artist                                           video  \\\n",
       "0  21 Savage              21 Savage - A Lot (Official Audio)   \n",
       "1  21 Savage       21 Savage - Break Da Law (Official Audio)   \n",
       "2  21 Savage                21 Savage - A&T (Official Audio)   \n",
       "3  21 Savage  21 Savage - Out For The Night (Official Audio)   \n",
       "4  21 Savage          21 Savage - Gun Smoke (Official Audio)   \n",
       "\n",
       "                       time  viewCount  likeCount  dislikeCount  \\\n",
       "0  2018-12-21T05:50:39.000Z   44797321     470630         17408   \n",
       "1  2018-12-21T01:58:31.000Z    4748384      60817          1333   \n",
       "2  2018-12-21T01:58:31.000Z    3252885      43697          1478   \n",
       "3  2018-12-21T01:58:31.000Z    2656637      42803           635   \n",
       "4  2018-12-21T01:58:31.000Z    5712582      66269          1269   \n",
       "\n",
       "   favoriteCount  commentCount  viewChannel  subscriberChannel  \n",
       "0              0         22894   1505671577            6007813  \n",
       "1              0          1473   1505671577            6007813  \n",
       "2              0          1643   1505671577            6007813  \n",
       "3              0          1417   1505671577            6007813  \n",
       "4              0          2300   1505671577            6007813  "
      ]
     },
     "execution_count": 52,
     "metadata": {},
     "output_type": "execute_result"
    }
   ],
   "source": [
    "youtube_data.head()"
   ]
  },
  {
   "cell_type": "code",
   "execution_count": 53,
   "metadata": {},
   "outputs": [
    {
     "data": {
      "text/plain": [
       "array([0], dtype=int64)"
      ]
     },
     "execution_count": 53,
     "metadata": {},
     "output_type": "execute_result"
    }
   ],
   "source": [
    "youtube_data['favoriteCount'].unique()"
   ]
  },
  {
   "cell_type": "code",
   "execution_count": 54,
   "metadata": {},
   "outputs": [],
   "source": [
    "youtube_data['like_view']=youtube_data['likeCount']/youtube_data['viewCount']\n",
    "youtube_data['comment_view']=youtube_data['commentCount']/youtube_data['viewCount']"
   ]
  },
  {
   "cell_type": "code",
   "execution_count": 55,
   "metadata": {},
   "outputs": [
    {
     "data": {
      "text/plain": [
       "[(0, 0.02)]"
      ]
     },
     "execution_count": 55,
     "metadata": {},
     "output_type": "execute_result"
    },
    {
     "data": {
      "image/png": "[encoded data removed]",
      "text/plain": [
       "<Figure size 432x288 with 1 Axes>"
      ]
     },
     "metadata": {
      "needs_background": "light"
     },
     "output_type": "display_data"
    }
   ],
   "source": [
    "lm = sns.distplot(youtube_data['comment_view'].replace([np.inf, -np.inf], np.nan).dropna(),hist = False)\n",
    "lm.set(xlim=(0, 0.02))"
   ]
  },
  {
   "cell_type": "code",
   "execution_count": 56,
   "metadata": {},
   "outputs": [
    {
     "data": {
      "text/plain": [
       "[(0, 0.5)]"
      ]
     },
     "execution_count": 56,
     "metadata": {},
     "output_type": "execute_result"
    },
    {
     "data": {
      "image/png": "[encoded data removed]",
      "text/plain": [
       "<Figure size 432x288 with 1 Axes>"
      ]
     },
     "metadata": {
      "needs_background": "light"
     },
     "output_type": "display_data"
    }
   ],
   "source": [
    "lm = sns.distplot(youtube_data['like_view'].replace([np.inf, -np.inf], np.nan).dropna(),hist = False)\n",
    "lm.set(xlim=(0, 0.5))"
   ]
  },
  {
   "cell_type": "code",
   "execution_count": 57,
   "metadata": {},
   "outputs": [],
   "source": [
    "def convertTZ(d):\n",
    "    from_zone = tz.gettz('UTC')\n",
    "    d = d.replace(tzinfo=from_zone)\n",
    "    to_zone = tz.gettz('America/Pittsburgh')\n",
    "    return d.astimezone(to_zone)\n",
    "\n",
    "def datetime_from_utc_to_local(utc_datetime):\n",
    "    now_timestamp = time.time()\n",
    "    offset = datetime.fromtimestamp(now_timestamp) - datetime.utcfromtimestamp(now_timestamp)\n",
    "    return utc_datetime + offset"
   ]
  },
  {
   "cell_type": "code",
   "execution_count": 58,
   "metadata": {},
   "outputs": [
    {
     "data": {
      "text/plain": [
       "0   2018-12-21 01:50:39\n",
       "1   2018-12-20 21:58:31\n",
       "2   2018-12-20 21:58:31\n",
       "3   2018-12-20 21:58:31\n",
       "4   2018-12-20 21:58:31\n",
       "Name: time, dtype: datetime64[ns]"
      ]
     },
     "execution_count": 58,
     "metadata": {},
     "output_type": "execute_result"
    }
   ],
   "source": [
    "youtube_data[\"time\"] =  youtube_data[\"time\"].apply(dateutil.parser.parse)\n",
    "youtube_data[\"time\"] =  youtube_data[\"time\"].apply(convertTZ)\n",
    "youtube_data[\"time\"] =  youtube_data[\"time\"].apply(datetime_from_utc_to_local)\n",
    "\n",
    "youtube_data[\"time\"].head()"
   ]
  },
  {
   "cell_type": "code",
   "execution_count": 59,
   "metadata": {},
   "outputs": [
    {
     "data": {
      "text/html": [
       "<div>\n",
       "<style scoped>\n",
       "    .dataframe tbody tr th:only-of-type {\n",
       "        vertical-align: middle;\n",
       "    }\n",
       "\n",
       "    .dataframe tbody tr th {\n",
       "        vertical-align: top;\n",
       "    }\n",
       "\n",
       "    .dataframe thead th {\n",
       "        text-align: right;\n",
       "    }\n",
       "</style>\n",
       "<table border=\"1\" class=\"dataframe\">\n",
       "  <thead>\n",
       "    <tr style=\"text-align: right;\">\n",
       "      <th></th>\n",
       "      <th>artist</th>\n",
       "      <th>video</th>\n",
       "      <th>time</th>\n",
       "      <th>viewCount</th>\n",
       "      <th>likeCount</th>\n",
       "      <th>dislikeCount</th>\n",
       "      <th>favoriteCount</th>\n",
       "      <th>commentCount</th>\n",
       "      <th>viewChannel</th>\n",
       "      <th>subscriberChannel</th>\n",
       "      <th>like_view</th>\n",
       "      <th>comment_view</th>\n",
       "      <th>hour</th>\n",
       "    </tr>\n",
       "  </thead>\n",
       "  <tbody>\n",
       "    <tr>\n",
       "      <th>0</th>\n",
       "      <td>21 Savage</td>\n",
       "      <td>21 Savage - A Lot (Official Audio)</td>\n",
       "      <td>2018-12-21 01:50:39</td>\n",
       "      <td>44797321</td>\n",
       "      <td>470630</td>\n",
       "      <td>17408</td>\n",
       "      <td>0</td>\n",
       "      <td>22894</td>\n",
       "      <td>1505671577</td>\n",
       "      <td>6007813</td>\n",
       "      <td>0.010506</td>\n",
       "      <td>0.000511</td>\n",
       "      <td>1</td>\n",
       "    </tr>\n",
       "    <tr>\n",
       "      <th>1</th>\n",
       "      <td>21 Savage</td>\n",
       "      <td>21 Savage - Break Da Law (Official Audio)</td>\n",
       "      <td>2018-12-20 21:58:31</td>\n",
       "      <td>4748384</td>\n",
       "      <td>60817</td>\n",
       "      <td>1333</td>\n",
       "      <td>0</td>\n",
       "      <td>1473</td>\n",
       "      <td>1505671577</td>\n",
       "      <td>6007813</td>\n",
       "      <td>0.012808</td>\n",
       "      <td>0.000310</td>\n",
       "      <td>21</td>\n",
       "    </tr>\n",
       "    <tr>\n",
       "      <th>2</th>\n",
       "      <td>21 Savage</td>\n",
       "      <td>21 Savage - A&amp;T (Official Audio)</td>\n",
       "      <td>2018-12-20 21:58:31</td>\n",
       "      <td>3252885</td>\n",
       "      <td>43697</td>\n",
       "      <td>1478</td>\n",
       "      <td>0</td>\n",
       "      <td>1643</td>\n",
       "      <td>1505671577</td>\n",
       "      <td>6007813</td>\n",
       "      <td>0.013433</td>\n",
       "      <td>0.000505</td>\n",
       "      <td>21</td>\n",
       "    </tr>\n",
       "    <tr>\n",
       "      <th>3</th>\n",
       "      <td>21 Savage</td>\n",
       "      <td>21 Savage - Out For The Night (Official Audio)</td>\n",
       "      <td>2018-12-20 21:58:31</td>\n",
       "      <td>2656637</td>\n",
       "      <td>42803</td>\n",
       "      <td>635</td>\n",
       "      <td>0</td>\n",
       "      <td>1417</td>\n",
       "      <td>1505671577</td>\n",
       "      <td>6007813</td>\n",
       "      <td>0.016112</td>\n",
       "      <td>0.000533</td>\n",
       "      <td>21</td>\n",
       "    </tr>\n",
       "    <tr>\n",
       "      <th>4</th>\n",
       "      <td>21 Savage</td>\n",
       "      <td>21 Savage - Gun Smoke (Official Audio)</td>\n",
       "      <td>2018-12-20 21:58:31</td>\n",
       "      <td>5712582</td>\n",
       "      <td>66269</td>\n",
       "      <td>1269</td>\n",
       "      <td>0</td>\n",
       "      <td>2300</td>\n",
       "      <td>1505671577</td>\n",
       "      <td>6007813</td>\n",
       "      <td>0.011601</td>\n",
       "      <td>0.000403</td>\n",
       "      <td>21</td>\n",
       "    </tr>\n",
       "  </tbody>\n",
       "</table>\n",
       "</div>"
      ],
      "text/plain": [
       "      artist                                           video  \\\n",
       "0  21 Savage              21 Savage - A Lot (Official Audio)   \n",
       "1  21 Savage       21 Savage - Break Da Law (Official Audio)   \n",
       "2  21 Savage                21 Savage - A&T (Official Audio)   \n",
       "3  21 Savage  21 Savage - Out For The Night (Official Audio)   \n",
       "4  21 Savage          21 Savage - Gun Smoke (Official Audio)   \n",
       "\n",
       "                 time  viewCount  likeCount  dislikeCount  favoriteCount  \\\n",
       "0 2018-12-21 01:50:39   44797321     470630         17408              0   \n",
       "1 2018-12-20 21:58:31    4748384      60817          1333              0   \n",
       "2 2018-12-20 21:58:31    3252885      43697          1478              0   \n",
       "3 2018-12-20 21:58:31    2656637      42803           635              0   \n",
       "4 2018-12-20 21:58:31    5712582      66269          1269              0   \n",
       "\n",
       "   commentCount  viewChannel  subscriberChannel  like_view  comment_view  hour  \n",
       "0         22894   1505671577            6007813   0.010506      0.000511     1  \n",
       "1          1473   1505671577            6007813   0.012808      0.000310    21  \n",
       "2          1643   1505671577            6007813   0.013433      0.000505    21  \n",
       "3          1417   1505671577            6007813   0.016112      0.000533    21  \n",
       "4          2300   1505671577            6007813   0.011601      0.000403    21  "
      ]
     },
     "execution_count": 59,
     "metadata": {},
     "output_type": "execute_result"
    }
   ],
   "source": [
    "def get_hour(d):\n",
    "    return d.hour\n",
    "youtube_data[\"hour\"] = youtube_data[\"time\"].apply(get_hour)\n",
    "youtube_data.head()"
   ]
  },
  {
   "cell_type": "code",
   "execution_count": 60,
   "metadata": {},
   "outputs": [
    {
     "data": {
      "text/plain": [
       "[(0, 24)]"
      ]
     },
     "execution_count": 60,
     "metadata": {},
     "output_type": "execute_result"
    },
    {
     "data": {
      "image/png": "[encoded data removed]",
      "text/plain": [
       "<Figure size 432x288 with 1 Axes>"
      ]
     },
     "metadata": {
      "needs_background": "light"
     },
     "output_type": "display_data"
    }
   ],
   "source": [
    "lm = sns.distplot(youtube_data['hour'].replace([np.inf, -np.inf], np.nan).dropna(),hist = False)\n",
    "lm.set(xlim=(0, 24))"
   ]
  },
  {
   "cell_type": "markdown",
   "metadata": {},
   "source": [
    "This is interesting, it seems most videos are published during working hours."
   ]
  },
  {
   "cell_type": "code",
   "execution_count": 61,
   "metadata": {},
   "outputs": [],
   "source": [
    "youtube_data[\"engage\"] = (youtube_data[\"viewCount\"] + youtube_data[\"likeCount\"] +youtube_data[\"dislikeCount\"] +youtube_data[\"commentCount\"])/youtube_data[\"subscriberChannel\"]"
   ]
  },
  {
   "cell_type": "code",
   "execution_count": 63,
   "metadata": {},
   "outputs": [
    {
     "data": {
      "text/plain": [
       "[(0, 500000)]"
      ]
     },
     "execution_count": 63,
     "metadata": {},
     "output_type": "execute_result"
    },
    {
     "data": {
      "image/png": "[encoded data removed]",
      "text/plain": [
       "<Figure size 432x288 with 1 Axes>"
      ]
     },
     "metadata": {
      "needs_background": "light"
     },
     "output_type": "display_data"
    }
   ],
   "source": [
    "lm = sns.distplot(youtube_data['engage'].replace([np.inf, -np.inf], np.nan).dropna(),hist = False)\n",
    "lm.set(xlim=(0, 500000))"
   ]
  },
  {
   "cell_type": "code",
   "execution_count": 69,
   "metadata": {},
   "outputs": [
    {
     "data": {
      "text/plain": [
       "count    2.014900e+04\n",
       "mean     7.886985e+02\n",
       "std      2.973599e+04\n",
       "min      0.000000e+00\n",
       "25%      1.307974e-02\n",
       "50%      1.122679e-01\n",
       "75%      2.014506e+00\n",
       "max      3.437224e+06\n",
       "Name: engage, dtype: float64"
      ]
     },
     "execution_count": 69,
     "metadata": {},
     "output_type": "execute_result"
    }
   ],
   "source": [
    "youtube_data[\"engage\"].describe()"
   ]
  },
  {
   "cell_type": "code",
   "execution_count": 154,
   "metadata": {},
   "outputs": [],
   "source": [
    "def hour_rounder(t):\n",
    "    # Rounds to nearest hour by adding a timedelta hour if minute >= 30\n",
    "    return (t.replace(second=0, microsecond=0, minute=0, hour=0,day=1))"
   ]
  },
  {
   "cell_type": "code",
   "execution_count": 155,
   "metadata": {},
   "outputs": [],
   "source": [
    "date_count = youtube_data['time'].apply(hour_rounder)"
   ]
  },
  {
   "cell_type": "code",
   "execution_count": 156,
   "metadata": {},
   "outputs": [],
   "source": [
    "date_count = date_count.groupby(date_count).count().to_frame()\n",
    "# date_count.columns = ['time','number']\n",
    "date_count.columns = ['time']\n",
    "t = date_count['time'].index\n",
    "ycount = date_count['time'].values\n",
    "ytime = t.values\n",
    "# ytime"
   ]
  },
  {
   "cell_type": "code",
   "execution_count": 157,
   "metadata": {},
   "outputs": [
    {
     "data": {
      "text/plain": [
       "[<matplotlib.lines.Line2D at 0x1bc5a951c50>]"
      ]
     },
     "execution_count": 157,
     "metadata": {},
     "output_type": "execute_result"
    },
    {
     "data": {
      "image/png": "[encoded data removed]",
      "text/plain": [
       "<Figure size 432x288 with 1 Axes>"
      ]
     },
     "metadata": {
      "needs_background": "light"
     },
     "output_type": "display_data"
    }
   ],
   "source": [
    "\n",
    "# date_count =  youtube_data['time'].groupby(df['time'])\n",
    "ytime = matplotlib.dates.date2num(ytime)\n",
    "matplotlib.pyplot.plot_date(ytime,ycount)"
   ]
  },
  {
   "cell_type": "markdown",
   "metadata": {},
   "source": [
    "Number of videos published every month\n",
    "Note 2018 - 2019"
   ]
  },
  {
   "cell_type": "code",
   "execution_count": 158,
   "metadata": {},
   "outputs": [],
   "source": [
    "youtube_data.to_csv('youtube_data.csv')"
   ]
  },
  {
   "cell_type": "code",
   "execution_count": null,
   "metadata": {},
   "outputs": [],
   "source": []
  },
  {
   "cell_type": "code",
   "execution_count": null,
   "metadata": {},
   "outputs": [],
   "source": []
  }
 ],
 "metadata": {
  "kernelspec": {
   "display_name": "Python 3",
   "language": "python",
   "name": "python3"
  },
  "language_info": {
   "codemirror_mode": {
    "name": "ipython",
    "version": 3
   },
   "file_extension": ".py",
   "mimetype": "text/x-python",
   "name": "python",
   "nbconvert_exporter": "python",
   "pygments_lexer": "ipython3",
   "version": "3.6.8"
  }
 },
 "nbformat": 4,
 "nbformat_minor": 2
}
