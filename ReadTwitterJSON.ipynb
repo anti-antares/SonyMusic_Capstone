{
 "cells": [
  {
   "cell_type": "code",
   "execution_count": 1,
   "metadata": {},
   "outputs": [],
   "source": [
    "import json\n",
    "import pandas as pd"
   ]
  },
  {
   "cell_type": "code",
   "execution_count": 2,
   "metadata": {},
   "outputs": [
    {
     "name": "stdout",
     "output_type": "stream",
     "text": [
      "{'created_at': 'Thu Apr 06 15:24:15 +0000 2017', 'id_str': '850006245121695744', 'text': '1/ Today we’re sharing our vision for the future of the Twitter API platform!\\nhttps://t.co/XweGngmxlP', 'user': {'id': 6253282, 'id_str': '6253282', 'name': 'Twitter API', 'screen_name': 'TwitterAPI', 'location': 'San Francisco, CA', 'url': 'https://developer.twitter.com', 'description': \"The Real Twitter API. Tweets about API changes, service issues and our Developer Platform. Don't get an answer? It's on my website.\", 'verified': True, 'followers_count': 6129794, 'friends_count': 12, 'listed_count': 12899, 'favourites_count': 31, 'statuses_count': 3658, 'created_at': 'Wed May 23 06:01:13 +0000 2007', 'utc_offset': None, 'time_zone': None, 'geo_enabled': False, 'lang': 'en', 'contributors_enabled': False, 'is_translator': False, 'profile_background_color': 'null', 'profile_background_image_url': 'null', 'profile_background_image_url_https': 'null', 'profile_background_tile': None, 'profile_link_color': 'null', 'profile_sidebar_border_color': 'null', 'profile_sidebar_fill_color': 'null', 'profile_text_color': 'null', 'profile_use_background_image': None, 'profile_image_url': 'null', 'profile_image_url_https': 'https://pbs.twimg.com/profile_images/942858479592554497/BbazLO9L_normal.jpg', 'profile_banner_url': 'https://pbs.twimg.com/profile_banners/6253282/1497491515', 'default_profile': False, 'default_profile_image': False, 'following': None, 'follow_request_sent': None, 'notifications': None}, 'place': {}, 'retweet_count': 160, 'favorite_count': 295, 'entities': {'hashtags': [], 'urls': [{'url': 'https://t.co/XweGngmxlP', 'unwound': {'url': 'https://cards.twitter.com/cards/18ce53wgo4h/3xo1c', 'title': 'Building the Future of the Twitter API Platform'}}], 'user_mentions': []}}\n"
     ]
    }
   ],
   "source": [
    "with open('sample.json', 'r') as jf:\n",
    "    tweets = json.load(jf)\n",
    "    print(tweets)"
   ]
  },
  {
   "cell_type": "code",
   "execution_count": 3,
   "metadata": {},
   "outputs": [],
   "source": [
    "data = {'text': [], 'screen_name': [], 'created_at': [],\n",
    "        'retweet_count': [], 'favorite_count': [],\n",
    "        'friends_count': [], 'followers_count': []}\n",
    "\n",
    "data['text'].append(tweets['text'])\n",
    "data['screen_name'].append(tweets['user']['screen_name'])\n",
    "data['created_at'].append(tweets['created_at'])\n",
    "data['retweet_count'].append(tweets['retweet_count'])\n",
    "data['favorite_count'].append(tweets['favorite_count'])\n",
    "data['friends_count'].append(tweets['user']['friends_count'])\n",
    "data['followers_count'].append(tweets['user']['followers_count'])\n"
   ]
  },
  {
   "cell_type": "code",
   "execution_count": 4,
   "metadata": {},
   "outputs": [],
   "source": [
    "df = pd.DataFrame(data)"
   ]
  },
  {
   "cell_type": "code",
   "execution_count": 5,
   "metadata": {},
   "outputs": [
    {
     "data": {
      "text/html": [
       "<div>\n",
       "<style scoped>\n",
       "    .dataframe tbody tr th:only-of-type {\n",
       "        vertical-align: middle;\n",
       "    }\n",
       "\n",
       "    .dataframe tbody tr th {\n",
       "        vertical-align: top;\n",
       "    }\n",
       "\n",
       "    .dataframe thead th {\n",
       "        text-align: right;\n",
       "    }\n",
       "</style>\n",
       "<table border=\"1\" class=\"dataframe\">\n",
       "  <thead>\n",
       "    <tr style=\"text-align: right;\">\n",
       "      <th></th>\n",
       "      <th>text</th>\n",
       "      <th>screen_name</th>\n",
       "      <th>created_at</th>\n",
       "      <th>retweet_count</th>\n",
       "      <th>favorite_count</th>\n",
       "      <th>friends_count</th>\n",
       "      <th>followers_count</th>\n",
       "    </tr>\n",
       "  </thead>\n",
       "  <tbody>\n",
       "    <tr>\n",
       "      <th>0</th>\n",
       "      <td>1/ Today we’re sharing our vision for the futu...</td>\n",
       "      <td>TwitterAPI</td>\n",
       "      <td>Thu Apr 06 15:24:15 +0000 2017</td>\n",
       "      <td>160</td>\n",
       "      <td>295</td>\n",
       "      <td>12</td>\n",
       "      <td>6129794</td>\n",
       "    </tr>\n",
       "  </tbody>\n",
       "</table>\n",
       "</div>"
      ],
      "text/plain": [
       "                                                text screen_name  \\\n",
       "0  1/ Today we’re sharing our vision for the futu...  TwitterAPI   \n",
       "\n",
       "                       created_at  retweet_count  favorite_count  \\\n",
       "0  Thu Apr 06 15:24:15 +0000 2017            160             295   \n",
       "\n",
       "   friends_count  followers_count  \n",
       "0             12          6129794  "
      ]
     },
     "execution_count": 5,
     "metadata": {},
     "output_type": "execute_result"
    }
   ],
   "source": [
    "df"
   ]
  }
 ],
 "metadata": {
  "kernelspec": {
   "display_name": "Python 3",
   "language": "python",
   "name": "python3"
  },
  "language_info": {
   "codemirror_mode": {
    "name": "ipython",
    "version": 3
   },
   "file_extension": ".py",
   "mimetype": "text/x-python",
   "name": "python",
   "nbconvert_exporter": "python",
   "pygments_lexer": "ipython3",
   "version": "3.7.1"
  }
 },
 "nbformat": 4,
 "nbformat_minor": 2
}
