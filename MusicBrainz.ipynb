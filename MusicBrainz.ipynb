{
 "cells": [
  {
   "cell_type": "code",
   "execution_count": 1,
   "metadata": {},
   "outputs": [],
   "source": [
    "import pandas as pd\n",
    "import numpy as np\n",
    "import json\n",
    "import urllib\n",
    "import time"
   ]
  },
  {
   "cell_type": "code",
   "execution_count": 2,
   "metadata": {},
   "outputs": [],
   "source": [
    "master_artists = pd.read_csv(\"master_artists_list_latest.csv\")"
   ]
  },
  {
   "cell_type": "code",
   "execution_count": 3,
   "metadata": {},
   "outputs": [
    {
     "data": {
      "text/plain": [
       "Index(['artist_name', 'age', 'years_active', 'genre_pop', 'genre_rock',\n",
       "       'genre_hip_hop', 'genre_world_music', 'genre_r_and_b',\n",
       "       'genre_spiritual', 'genre_electronic', 'genre_jazz', 'genre_country',\n",
       "       'genre_blues', 'genre_folk', 'facebook', 'instagram', 'twitter',\n",
       "       'youtube', 'musicbrainz'],\n",
       "      dtype='object')"
      ]
     },
     "execution_count": 3,
     "metadata": {},
     "output_type": "execute_result"
    }
   ],
   "source": [
    "master_artists.columns"
   ]
  },
  {
   "cell_type": "code",
   "execution_count": 12,
   "metadata": {},
   "outputs": [],
   "source": [
    "df = pd.DataFrame(columns = ['artist_name','title','release_date','primary_type'])"
   ]
  },
  {
   "cell_type": "code",
   "execution_count": 14,
   "metadata": {},
   "outputs": [],
   "source": [
    "for index, row in master_artists.iterrows():\n",
    "    time.sleep(5)\n",
    "    offset = 0\n",
    "    while True:\n",
    "        url = \"http://musicbrainz.org/ws/2/release/?query=arid:\" + row['musicbrainz']+ \"&fmt=json&inc=release-groups&limit=100&offset=\" + str(offset)\n",
    "        contents = urllib.request.urlopen(url).read()\n",
    "        channels = json.loads(contents)\n",
    "        offset += 100\n",
    "        if len(channels['releases']) == 0:\n",
    "            break\n",
    "        for releases in channels['releases']:\n",
    "            features = []\n",
    "            features.append(row['artist_name'])\n",
    "            if 'title' in releases:\n",
    "                features.append(releases['title'])\n",
    "            else:\n",
    "                features.append(np.NAN)\n",
    "\n",
    "            if 'date' in releases:\n",
    "                features.append(releases['date'])\n",
    "            else:\n",
    "                features.append(np.NAN)\n",
    "\n",
    "            if 'release-group' in releases:\n",
    "                if 'primary-type' in releases['release-group']:\n",
    "                    features.append(releases['release-group']['primary-type'])\n",
    "                else:\n",
    "                    features.append(np.NAN)\n",
    "            else:\n",
    "                features.append(np.NAN)\n",
    "            df = df.append(pd.Series(features,index = df.columns),ignore_index=True)"
   ]
  },
  {
   "cell_type": "code",
   "execution_count": 15,
   "metadata": {},
   "outputs": [
    {
     "data": {
      "text/plain": [
       "artist_name     20752\n",
       "title           20752\n",
       "release_date    18157\n",
       "primary_type    20583\n",
       "dtype: int64"
      ]
     },
     "execution_count": 15,
     "metadata": {},
     "output_type": "execute_result"
    }
   ],
   "source": [
    "df.count()"
   ]
  },
  {
   "cell_type": "code",
   "execution_count": 16,
   "metadata": {},
   "outputs": [
    {
     "data": {
      "text/plain": [
       "2595"
      ]
     },
     "execution_count": 16,
     "metadata": {},
     "output_type": "execute_result"
    }
   ],
   "source": [
    "df['release_date'].isnull().values.sum()"
   ]
  },
  {
   "cell_type": "code",
   "execution_count": 17,
   "metadata": {},
   "outputs": [],
   "source": [
    "df = df.dropna(axis=0, subset=['release_date'])"
   ]
  },
  {
   "cell_type": "code",
   "execution_count": 18,
   "metadata": {},
   "outputs": [
    {
     "data": {
      "text/plain": [
       "artist_name     18157\n",
       "title           18157\n",
       "release_date    18157\n",
       "primary_type    18084\n",
       "dtype: int64"
      ]
     },
     "execution_count": 18,
     "metadata": {},
     "output_type": "execute_result"
    }
   ],
   "source": [
    "df.count()"
   ]
  },
  {
   "cell_type": "code",
   "execution_count": 19,
   "metadata": {},
   "outputs": [
    {
     "data": {
      "text/plain": [
       "artist_name     object\n",
       "title           object\n",
       "release_date    object\n",
       "primary_type    object\n",
       "dtype: object"
      ]
     },
     "execution_count": 19,
     "metadata": {},
     "output_type": "execute_result"
    }
   ],
   "source": [
    "df.dtypes"
   ]
  },
  {
   "cell_type": "code",
   "execution_count": 20,
   "metadata": {},
   "outputs": [
    {
     "data": {
      "text/plain": [
       "array([ 4, 10,  7,  0], dtype=int64)"
      ]
     },
     "execution_count": 20,
     "metadata": {},
     "output_type": "execute_result"
    }
   ],
   "source": [
    "df['release_date'].str.len().unique()"
   ]
  },
  {
   "cell_type": "code",
   "execution_count": 21,
   "metadata": {},
   "outputs": [],
   "source": [
    "df = df[df['release_date'].str.len() != 0]"
   ]
  },
  {
   "cell_type": "code",
   "execution_count": 22,
   "metadata": {},
   "outputs": [
    {
     "data": {
      "text/plain": [
       "artist_name     17611\n",
       "title           17611\n",
       "release_date    17611\n",
       "primary_type    17544\n",
       "dtype: int64"
      ]
     },
     "execution_count": 22,
     "metadata": {},
     "output_type": "execute_result"
    }
   ],
   "source": [
    "df.count()"
   ]
  },
  {
   "cell_type": "code",
   "execution_count": 23,
   "metadata": {},
   "outputs": [
    {
     "data": {
      "text/plain": [
       "count     5752\n",
       "unique      60\n",
       "top       2001\n",
       "freq       258\n",
       "Name: release_date, dtype: object"
      ]
     },
     "execution_count": 23,
     "metadata": {},
     "output_type": "execute_result"
    }
   ],
   "source": [
    "df[df['release_date'].str.len() == 4].release_date.describe()"
   ]
  },
  {
   "cell_type": "code",
   "execution_count": 25,
   "metadata": {},
   "outputs": [],
   "source": [
    "df['release_date'] = pd.to_datetime(df['release_date'], format='%Y-%m-%d %H:%M:%S')"
   ]
  },
  {
   "cell_type": "code",
   "execution_count": 26,
   "metadata": {},
   "outputs": [
    {
     "data": {
      "text/html": [
       "<div>\n",
       "<style scoped>\n",
       "    .dataframe tbody tr th:only-of-type {\n",
       "        vertical-align: middle;\n",
       "    }\n",
       "\n",
       "    .dataframe tbody tr th {\n",
       "        vertical-align: top;\n",
       "    }\n",
       "\n",
       "    .dataframe thead th {\n",
       "        text-align: right;\n",
       "    }\n",
       "</style>\n",
       "<table border=\"1\" class=\"dataframe\">\n",
       "  <thead>\n",
       "    <tr style=\"text-align: right;\">\n",
       "      <th></th>\n",
       "      <th></th>\n",
       "      <th>release_date</th>\n",
       "      <th>primary_type</th>\n",
       "    </tr>\n",
       "    <tr>\n",
       "      <th>artist_name</th>\n",
       "      <th>title</th>\n",
       "      <th></th>\n",
       "      <th></th>\n",
       "    </tr>\n",
       "  </thead>\n",
       "  <tbody>\n",
       "    <tr>\n",
       "      <th rowspan=\"18\" valign=\"top\">21 Savage</th>\n",
       "      <th>1Night</th>\n",
       "      <td>1</td>\n",
       "      <td>1</td>\n",
       "    </tr>\n",
       "    <tr>\n",
       "      <th>Bartier Cardi</th>\n",
       "      <td>2</td>\n",
       "      <td>2</td>\n",
       "    </tr>\n",
       "    <tr>\n",
       "      <th>Enzo</th>\n",
       "      <td>1</td>\n",
       "      <td>1</td>\n",
       "    </tr>\n",
       "    <tr>\n",
       "      <th>Focus</th>\n",
       "      <td>2</td>\n",
       "      <td>2</td>\n",
       "    </tr>\n",
       "    <tr>\n",
       "      <th>Free Guwop EP</th>\n",
       "      <td>1</td>\n",
       "      <td>1</td>\n",
       "    </tr>\n",
       "    <tr>\n",
       "      <th>Gucci on My</th>\n",
       "      <td>1</td>\n",
       "      <td>1</td>\n",
       "    </tr>\n",
       "    <tr>\n",
       "      <th>How To Ball</th>\n",
       "      <td>1</td>\n",
       "      <td>1</td>\n",
       "    </tr>\n",
       "    <tr>\n",
       "      <th>Issa Album</th>\n",
       "      <td>1</td>\n",
       "      <td>1</td>\n",
       "    </tr>\n",
       "    <tr>\n",
       "      <th>Krippy Kush (remix)</th>\n",
       "      <td>1</td>\n",
       "      <td>1</td>\n",
       "    </tr>\n",
       "    <tr>\n",
       "      <th>One Foot</th>\n",
       "      <td>1</td>\n",
       "      <td>1</td>\n",
       "    </tr>\n",
       "    <tr>\n",
       "      <th>Red Opps</th>\n",
       "      <td>1</td>\n",
       "      <td>1</td>\n",
       "    </tr>\n",
       "    <tr>\n",
       "      <th>Rover 2.0</th>\n",
       "      <td>1</td>\n",
       "      <td>1</td>\n",
       "    </tr>\n",
       "    <tr>\n",
       "      <th>Savage Mode</th>\n",
       "      <td>1</td>\n",
       "      <td>1</td>\n",
       "    </tr>\n",
       "    <tr>\n",
       "      <th>Slaughter King</th>\n",
       "      <td>2</td>\n",
       "      <td>2</td>\n",
       "    </tr>\n",
       "    <tr>\n",
       "      <th>Sneakin’</th>\n",
       "      <td>1</td>\n",
       "      <td>1</td>\n",
       "    </tr>\n",
       "    <tr>\n",
       "      <th>The Slaughter Tape</th>\n",
       "      <td>1</td>\n",
       "      <td>1</td>\n",
       "    </tr>\n",
       "    <tr>\n",
       "      <th>Without Warning</th>\n",
       "      <td>2</td>\n",
       "      <td>2</td>\n",
       "    </tr>\n",
       "    <tr>\n",
       "      <th>i am &gt; i was</th>\n",
       "      <td>3</td>\n",
       "      <td>3</td>\n",
       "    </tr>\n",
       "    <tr>\n",
       "      <th rowspan=\"12\" valign=\"top\">AC/DC</th>\n",
       "      <th>'74 Jailbreak</th>\n",
       "      <td>10</td>\n",
       "      <td>10</td>\n",
       "    </tr>\n",
       "    <tr>\n",
       "      <th>1976-12-18: A Giant Doze of Rock 'n' Roll: Festival Hall, Brisbane, Queensland, Australia</th>\n",
       "      <td>1</td>\n",
       "      <td>1</td>\n",
       "    </tr>\n",
       "    <tr>\n",
       "      <th>1979-11-12: Jaap Edenhal, Amsterdam, The Netherlands</th>\n",
       "      <td>1</td>\n",
       "      <td>1</td>\n",
       "    </tr>\n",
       "    <tr>\n",
       "      <th>1995-01-15: Rock in Rio: Cidade do Rock, Rio de Janeiro, Brazil</th>\n",
       "      <td>1</td>\n",
       "      <td>1</td>\n",
       "    </tr>\n",
       "    <tr>\n",
       "      <th>1996 Ballbreaker Australian Tour EP</th>\n",
       "      <td>1</td>\n",
       "      <td>1</td>\n",
       "    </tr>\n",
       "    <tr>\n",
       "      <th>2003-03-07: The Howard Stern Show: New York, NY, USA</th>\n",
       "      <td>2</td>\n",
       "      <td>2</td>\n",
       "    </tr>\n",
       "    <tr>\n",
       "      <th>2003-06-22: Sympathy For The Devil: Live am 22.06.2003 in Hockenheim zum 60. Geburtstag von Mick Jagger: Hockenheim, Germany</th>\n",
       "      <td>2</td>\n",
       "      <td>2</td>\n",
       "    </tr>\n",
       "    <tr>\n",
       "      <th>2009-11-27: Black Ice Tour: Morumbi Stadium, São Paulo, Brazil</th>\n",
       "      <td>2</td>\n",
       "      <td>2</td>\n",
       "    </tr>\n",
       "    <tr>\n",
       "      <th>3 Live Tracks</th>\n",
       "      <td>1</td>\n",
       "      <td>1</td>\n",
       "    </tr>\n",
       "    <tr>\n",
       "      <th>3 Record Set</th>\n",
       "      <td>2</td>\n",
       "      <td>2</td>\n",
       "    </tr>\n",
       "    <tr>\n",
       "      <th>5 Titres inédits en concert</th>\n",
       "      <td>1</td>\n",
       "      <td>1</td>\n",
       "    </tr>\n",
       "    <tr>\n",
       "      <th>A Vulgar Display of Ultra Rare Tracks</th>\n",
       "      <td>2</td>\n",
       "      <td>2</td>\n",
       "    </tr>\n",
       "    <tr>\n",
       "      <th>...</th>\n",
       "      <th>...</th>\n",
       "      <td>...</td>\n",
       "      <td>...</td>\n",
       "    </tr>\n",
       "    <tr>\n",
       "      <th rowspan=\"30\" valign=\"top\">Zayn</th>\n",
       "      <th>Back to Sleep (remix)</th>\n",
       "      <td>1</td>\n",
       "      <td>1</td>\n",
       "    </tr>\n",
       "    <tr>\n",
       "      <th>BeFoUr</th>\n",
       "      <td>1</td>\n",
       "      <td>1</td>\n",
       "    </tr>\n",
       "    <tr>\n",
       "      <th>Cruel</th>\n",
       "      <td>1</td>\n",
       "      <td>1</td>\n",
       "    </tr>\n",
       "    <tr>\n",
       "      <th>Cruel (Jay Pryor remix)</th>\n",
       "      <td>1</td>\n",
       "      <td>1</td>\n",
       "    </tr>\n",
       "    <tr>\n",
       "      <th>Cruel (MXXWLL remix)</th>\n",
       "      <td>1</td>\n",
       "      <td>1</td>\n",
       "    </tr>\n",
       "    <tr>\n",
       "      <th>Cruel (Ta-ku remix)</th>\n",
       "      <td>1</td>\n",
       "      <td>1</td>\n",
       "    </tr>\n",
       "    <tr>\n",
       "      <th>Dusk Till Dawn</th>\n",
       "      <td>1</td>\n",
       "      <td>1</td>\n",
       "    </tr>\n",
       "    <tr>\n",
       "      <th>Dusk Till Dawn (The Remixes)</th>\n",
       "      <td>1</td>\n",
       "      <td>1</td>\n",
       "    </tr>\n",
       "    <tr>\n",
       "      <th>Dusk Till Dawn (radio edit)</th>\n",
       "      <td>1</td>\n",
       "      <td>1</td>\n",
       "    </tr>\n",
       "    <tr>\n",
       "      <th>Entertainer</th>\n",
       "      <td>1</td>\n",
       "      <td>1</td>\n",
       "    </tr>\n",
       "    <tr>\n",
       "      <th>Fingers</th>\n",
       "      <td>1</td>\n",
       "      <td>1</td>\n",
       "    </tr>\n",
       "    <tr>\n",
       "      <th>Freedun</th>\n",
       "      <td>1</td>\n",
       "      <td>1</td>\n",
       "    </tr>\n",
       "    <tr>\n",
       "      <th>I Don't Wanna Live Forever (Fifty Shades Darker)</th>\n",
       "      <td>1</td>\n",
       "      <td>1</td>\n",
       "    </tr>\n",
       "    <tr>\n",
       "      <th>I Don’t Wanna Live Forever (Fifty Shades Darker)</th>\n",
       "      <td>1</td>\n",
       "      <td>1</td>\n",
       "    </tr>\n",
       "    <tr>\n",
       "      <th>Icarus Falls</th>\n",
       "      <td>5</td>\n",
       "      <td>5</td>\n",
       "    </tr>\n",
       "    <tr>\n",
       "      <th>LIKE I WOULD</th>\n",
       "      <td>1</td>\n",
       "      <td>1</td>\n",
       "    </tr>\n",
       "    <tr>\n",
       "      <th>LIKE I WOULD (The Remixes)</th>\n",
       "      <td>1</td>\n",
       "      <td>1</td>\n",
       "    </tr>\n",
       "    <tr>\n",
       "      <th>LIKE I WOULD (The White Panda remix)</th>\n",
       "      <td>1</td>\n",
       "      <td>1</td>\n",
       "    </tr>\n",
       "    <tr>\n",
       "      <th>Let Me</th>\n",
       "      <td>1</td>\n",
       "      <td>1</td>\n",
       "    </tr>\n",
       "    <tr>\n",
       "      <th>Mind of Mine</th>\n",
       "      <td>10</td>\n",
       "      <td>10</td>\n",
       "    </tr>\n",
       "    <tr>\n",
       "      <th>No Candle No Light</th>\n",
       "      <td>1</td>\n",
       "      <td>1</td>\n",
       "    </tr>\n",
       "    <tr>\n",
       "      <th>PILLOWTALK</th>\n",
       "      <td>1</td>\n",
       "      <td>1</td>\n",
       "    </tr>\n",
       "    <tr>\n",
       "      <th>PILLOWTALK (remix)</th>\n",
       "      <td>1</td>\n",
       "      <td>1</td>\n",
       "    </tr>\n",
       "    <tr>\n",
       "      <th>PILLOWTALK (the living room session)</th>\n",
       "      <td>1</td>\n",
       "      <td>1</td>\n",
       "    </tr>\n",
       "    <tr>\n",
       "      <th>Rainberry</th>\n",
       "      <td>1</td>\n",
       "      <td>1</td>\n",
       "    </tr>\n",
       "    <tr>\n",
       "      <th>Sour Diesel</th>\n",
       "      <td>1</td>\n",
       "      <td>1</td>\n",
       "    </tr>\n",
       "    <tr>\n",
       "      <th>Still Got Time</th>\n",
       "      <td>1</td>\n",
       "      <td>1</td>\n",
       "    </tr>\n",
       "    <tr>\n",
       "      <th>Still Got Time (The Remixes)</th>\n",
       "      <td>1</td>\n",
       "      <td>1</td>\n",
       "    </tr>\n",
       "    <tr>\n",
       "      <th>Too Much</th>\n",
       "      <td>1</td>\n",
       "      <td>1</td>\n",
       "    </tr>\n",
       "    <tr>\n",
       "      <th>iT’s YoU</th>\n",
       "      <td>1</td>\n",
       "      <td>1</td>\n",
       "    </tr>\n",
       "  </tbody>\n",
       "</table>\n",
       "<p>8511 rows × 2 columns</p>\n",
       "</div>"
      ],
      "text/plain": [
       "                                                                release_date  \\\n",
       "artist_name title                                                              \n",
       "21 Savage   1Night                                                         1   \n",
       "            Bartier Cardi                                                  2   \n",
       "            Enzo                                                           1   \n",
       "            Focus                                                          2   \n",
       "            Free Guwop EP                                                  1   \n",
       "            Gucci on My                                                    1   \n",
       "            How To Ball                                                    1   \n",
       "            Issa Album                                                     1   \n",
       "            Krippy Kush (remix)                                            1   \n",
       "            One Foot                                                       1   \n",
       "            Red Opps                                                       1   \n",
       "            Rover 2.0                                                      1   \n",
       "            Savage Mode                                                    1   \n",
       "            Slaughter King                                                 2   \n",
       "            Sneakin’                                                       1   \n",
       "            The Slaughter Tape                                             1   \n",
       "            Without Warning                                                2   \n",
       "            i am > i was                                                   3   \n",
       "AC/DC       '74 Jailbreak                                                 10   \n",
       "            1976-12-18: A Giant Doze of Rock 'n' Roll: Fest...             1   \n",
       "            1979-11-12: Jaap Edenhal, Amsterdam, The Nether...             1   \n",
       "            1995-01-15: Rock in Rio: Cidade do Rock, Rio de...             1   \n",
       "            1996 Ballbreaker Australian Tour EP                            1   \n",
       "            2003-03-07: The Howard Stern Show: New York, NY...             2   \n",
       "            2003-06-22: Sympathy For The Devil: Live am 22....             2   \n",
       "            2009-11-27: Black Ice Tour: Morumbi Stadium, Sã...             2   \n",
       "            3 Live Tracks                                                  1   \n",
       "            3 Record Set                                                   2   \n",
       "            5 Titres inédits en concert                                    1   \n",
       "            A Vulgar Display of Ultra Rare Tracks                          2   \n",
       "...                                                                      ...   \n",
       "Zayn        Back to Sleep (remix)                                          1   \n",
       "            BeFoUr                                                         1   \n",
       "            Cruel                                                          1   \n",
       "            Cruel (Jay Pryor remix)                                        1   \n",
       "            Cruel (MXXWLL remix)                                           1   \n",
       "            Cruel (Ta-ku remix)                                            1   \n",
       "            Dusk Till Dawn                                                 1   \n",
       "            Dusk Till Dawn (The Remixes)                                   1   \n",
       "            Dusk Till Dawn (radio edit)                                    1   \n",
       "            Entertainer                                                    1   \n",
       "            Fingers                                                        1   \n",
       "            Freedun                                                        1   \n",
       "            I Don't Wanna Live Forever (Fifty Shades Darker)               1   \n",
       "            I Don’t Wanna Live Forever (Fifty Shades Darker)               1   \n",
       "            Icarus Falls                                                   5   \n",
       "            LIKE I WOULD                                                   1   \n",
       "            LIKE I WOULD (The Remixes)                                     1   \n",
       "            LIKE I WOULD (The White Panda remix)                           1   \n",
       "            Let Me                                                         1   \n",
       "            Mind of Mine                                                  10   \n",
       "            No Candle No Light                                             1   \n",
       "            PILLOWTALK                                                     1   \n",
       "            PILLOWTALK (remix)                                             1   \n",
       "            PILLOWTALK (the living room session)                           1   \n",
       "            Rainberry                                                      1   \n",
       "            Sour Diesel                                                    1   \n",
       "            Still Got Time                                                 1   \n",
       "            Still Got Time (The Remixes)                                   1   \n",
       "            Too Much                                                       1   \n",
       "            iT’s YoU                                                       1   \n",
       "\n",
       "                                                                primary_type  \n",
       "artist_name title                                                             \n",
       "21 Savage   1Night                                                         1  \n",
       "            Bartier Cardi                                                  2  \n",
       "            Enzo                                                           1  \n",
       "            Focus                                                          2  \n",
       "            Free Guwop EP                                                  1  \n",
       "            Gucci on My                                                    1  \n",
       "            How To Ball                                                    1  \n",
       "            Issa Album                                                     1  \n",
       "            Krippy Kush (remix)                                            1  \n",
       "            One Foot                                                       1  \n",
       "            Red Opps                                                       1  \n",
       "            Rover 2.0                                                      1  \n",
       "            Savage Mode                                                    1  \n",
       "            Slaughter King                                                 2  \n",
       "            Sneakin’                                                       1  \n",
       "            The Slaughter Tape                                             1  \n",
       "            Without Warning                                                2  \n",
       "            i am > i was                                                   3  \n",
       "AC/DC       '74 Jailbreak                                                 10  \n",
       "            1976-12-18: A Giant Doze of Rock 'n' Roll: Fest...             1  \n",
       "            1979-11-12: Jaap Edenhal, Amsterdam, The Nether...             1  \n",
       "            1995-01-15: Rock in Rio: Cidade do Rock, Rio de...             1  \n",
       "            1996 Ballbreaker Australian Tour EP                            1  \n",
       "            2003-03-07: The Howard Stern Show: New York, NY...             2  \n",
       "            2003-06-22: Sympathy For The Devil: Live am 22....             2  \n",
       "            2009-11-27: Black Ice Tour: Morumbi Stadium, Sã...             2  \n",
       "            3 Live Tracks                                                  1  \n",
       "            3 Record Set                                                   2  \n",
       "            5 Titres inédits en concert                                    1  \n",
       "            A Vulgar Display of Ultra Rare Tracks                          2  \n",
       "...                                                                      ...  \n",
       "Zayn        Back to Sleep (remix)                                          1  \n",
       "            BeFoUr                                                         1  \n",
       "            Cruel                                                          1  \n",
       "            Cruel (Jay Pryor remix)                                        1  \n",
       "            Cruel (MXXWLL remix)                                           1  \n",
       "            Cruel (Ta-ku remix)                                            1  \n",
       "            Dusk Till Dawn                                                 1  \n",
       "            Dusk Till Dawn (The Remixes)                                   1  \n",
       "            Dusk Till Dawn (radio edit)                                    1  \n",
       "            Entertainer                                                    1  \n",
       "            Fingers                                                        1  \n",
       "            Freedun                                                        1  \n",
       "            I Don't Wanna Live Forever (Fifty Shades Darker)               1  \n",
       "            I Don’t Wanna Live Forever (Fifty Shades Darker)               1  \n",
       "            Icarus Falls                                                   5  \n",
       "            LIKE I WOULD                                                   1  \n",
       "            LIKE I WOULD (The Remixes)                                     1  \n",
       "            LIKE I WOULD (The White Panda remix)                           1  \n",
       "            Let Me                                                         1  \n",
       "            Mind of Mine                                                  10  \n",
       "            No Candle No Light                                             1  \n",
       "            PILLOWTALK                                                     1  \n",
       "            PILLOWTALK (remix)                                             1  \n",
       "            PILLOWTALK (the living room session)                           1  \n",
       "            Rainberry                                                      1  \n",
       "            Sour Diesel                                                    1  \n",
       "            Still Got Time                                                 1  \n",
       "            Still Got Time (The Remixes)                                   1  \n",
       "            Too Much                                                       1  \n",
       "            iT’s YoU                                                       1  \n",
       "\n",
       "[8511 rows x 2 columns]"
      ]
     },
     "execution_count": 26,
     "metadata": {},
     "output_type": "execute_result"
    }
   ],
   "source": [
    "df.groupby(['artist_name','title']).count()"
   ]
  },
  {
   "cell_type": "code",
   "execution_count": 27,
   "metadata": {},
   "outputs": [
    {
     "data": {
      "text/plain": [
       "artist_name             object\n",
       "title                   object\n",
       "release_date    datetime64[ns]\n",
       "primary_type            object\n",
       "dtype: object"
      ]
     },
     "execution_count": 27,
     "metadata": {},
     "output_type": "execute_result"
    }
   ],
   "source": [
    "df.dtypes"
   ]
  },
  {
   "cell_type": "code",
   "execution_count": 28,
   "metadata": {},
   "outputs": [],
   "source": [
    "df.sort_values(by=['artist_name','title','release_date'],inplace=True)"
   ]
  },
  {
   "cell_type": "code",
   "execution_count": 29,
   "metadata": {},
   "outputs": [
    {
     "data": {
      "text/html": [
       "<div>\n",
       "<style scoped>\n",
       "    .dataframe tbody tr th:only-of-type {\n",
       "        vertical-align: middle;\n",
       "    }\n",
       "\n",
       "    .dataframe tbody tr th {\n",
       "        vertical-align: top;\n",
       "    }\n",
       "\n",
       "    .dataframe thead th {\n",
       "        text-align: right;\n",
       "    }\n",
       "</style>\n",
       "<table border=\"1\" class=\"dataframe\">\n",
       "  <thead>\n",
       "    <tr style=\"text-align: right;\">\n",
       "      <th></th>\n",
       "      <th>artist_name</th>\n",
       "      <th>title</th>\n",
       "      <th>release_date</th>\n",
       "      <th>primary_type</th>\n",
       "    </tr>\n",
       "  </thead>\n",
       "  <tbody>\n",
       "    <tr>\n",
       "      <th>9378</th>\n",
       "      <td>21 Savage</td>\n",
       "      <td>1Night</td>\n",
       "      <td>2018-04-27</td>\n",
       "      <td>Single</td>\n",
       "    </tr>\n",
       "    <tr>\n",
       "      <th>9380</th>\n",
       "      <td>21 Savage</td>\n",
       "      <td>Bartier Cardi</td>\n",
       "      <td>2017-12-22</td>\n",
       "      <td>Single</td>\n",
       "    </tr>\n",
       "    <tr>\n",
       "      <th>9383</th>\n",
       "      <td>21 Savage</td>\n",
       "      <td>Bartier Cardi</td>\n",
       "      <td>2017-12-22</td>\n",
       "      <td>Single</td>\n",
       "    </tr>\n",
       "    <tr>\n",
       "      <th>9370</th>\n",
       "      <td>21 Savage</td>\n",
       "      <td>Enzo</td>\n",
       "      <td>2016-04-24</td>\n",
       "      <td>Single</td>\n",
       "    </tr>\n",
       "    <tr>\n",
       "      <th>9381</th>\n",
       "      <td>21 Savage</td>\n",
       "      <td>Focus</td>\n",
       "      <td>2019-06-13</td>\n",
       "      <td>Single</td>\n",
       "    </tr>\n",
       "  </tbody>\n",
       "</table>\n",
       "</div>"
      ],
      "text/plain": [
       "     artist_name          title release_date primary_type\n",
       "9378   21 Savage         1Night   2018-04-27       Single\n",
       "9380   21 Savage  Bartier Cardi   2017-12-22       Single\n",
       "9383   21 Savage  Bartier Cardi   2017-12-22       Single\n",
       "9370   21 Savage           Enzo   2016-04-24       Single\n",
       "9381   21 Savage          Focus   2019-06-13       Single"
      ]
     },
     "execution_count": 29,
     "metadata": {},
     "output_type": "execute_result"
    }
   ],
   "source": [
    "df.head()"
   ]
  },
  {
   "cell_type": "code",
   "execution_count": 30,
   "metadata": {},
   "outputs": [],
   "source": [
    "df = df.groupby(['artist_name','title']).first()"
   ]
  },
  {
   "cell_type": "code",
   "execution_count": 31,
   "metadata": {},
   "outputs": [],
   "source": [
    "df.reset_index(inplace=True)"
   ]
  },
  {
   "cell_type": "code",
   "execution_count": 32,
   "metadata": {},
   "outputs": [
    {
     "data": {
      "text/html": [
       "<div>\n",
       "<style scoped>\n",
       "    .dataframe tbody tr th:only-of-type {\n",
       "        vertical-align: middle;\n",
       "    }\n",
       "\n",
       "    .dataframe tbody tr th {\n",
       "        vertical-align: top;\n",
       "    }\n",
       "\n",
       "    .dataframe thead th {\n",
       "        text-align: right;\n",
       "    }\n",
       "</style>\n",
       "<table border=\"1\" class=\"dataframe\">\n",
       "  <thead>\n",
       "    <tr style=\"text-align: right;\">\n",
       "      <th></th>\n",
       "      <th>artist_name</th>\n",
       "      <th>title</th>\n",
       "      <th>release_date</th>\n",
       "      <th>primary_type</th>\n",
       "    </tr>\n",
       "  </thead>\n",
       "  <tbody>\n",
       "    <tr>\n",
       "      <th>0</th>\n",
       "      <td>21 Savage</td>\n",
       "      <td>1Night</td>\n",
       "      <td>2018-04-27</td>\n",
       "      <td>Single</td>\n",
       "    </tr>\n",
       "    <tr>\n",
       "      <th>1</th>\n",
       "      <td>21 Savage</td>\n",
       "      <td>Bartier Cardi</td>\n",
       "      <td>2017-12-22</td>\n",
       "      <td>Single</td>\n",
       "    </tr>\n",
       "    <tr>\n",
       "      <th>2</th>\n",
       "      <td>21 Savage</td>\n",
       "      <td>Enzo</td>\n",
       "      <td>2016-04-24</td>\n",
       "      <td>Single</td>\n",
       "    </tr>\n",
       "    <tr>\n",
       "      <th>3</th>\n",
       "      <td>21 Savage</td>\n",
       "      <td>Focus</td>\n",
       "      <td>2019-06-13</td>\n",
       "      <td>Single</td>\n",
       "    </tr>\n",
       "    <tr>\n",
       "      <th>4</th>\n",
       "      <td>21 Savage</td>\n",
       "      <td>Free Guwop EP</td>\n",
       "      <td>2015-07-02</td>\n",
       "      <td>Album</td>\n",
       "    </tr>\n",
       "  </tbody>\n",
       "</table>\n",
       "</div>"
      ],
      "text/plain": [
       "  artist_name          title release_date primary_type\n",
       "0   21 Savage         1Night   2018-04-27       Single\n",
       "1   21 Savage  Bartier Cardi   2017-12-22       Single\n",
       "2   21 Savage           Enzo   2016-04-24       Single\n",
       "3   21 Savage          Focus   2019-06-13       Single\n",
       "4   21 Savage  Free Guwop EP   2015-07-02        Album"
      ]
     },
     "execution_count": 32,
     "metadata": {},
     "output_type": "execute_result"
    }
   ],
   "source": [
    "df.head()"
   ]
  },
  {
   "cell_type": "code",
   "execution_count": 33,
   "metadata": {},
   "outputs": [
    {
     "data": {
      "text/plain": [
       "artist_name     8511\n",
       "title           8511\n",
       "release_date    8511\n",
       "primary_type    8459\n",
       "dtype: int64"
      ]
     },
     "execution_count": 33,
     "metadata": {},
     "output_type": "execute_result"
    }
   ],
   "source": [
    "df.count()"
   ]
  },
  {
   "cell_type": "code",
   "execution_count": 34,
   "metadata": {},
   "outputs": [],
   "source": [
    "df.to_csv('musicbrainz_data.csv')"
   ]
  },
  {
   "cell_type": "code",
   "execution_count": null,
   "metadata": {},
   "outputs": [],
   "source": []
  }
 ],
 "metadata": {
  "kernelspec": {
   "display_name": "Python 3",
   "language": "python",
   "name": "python3"
  },
  "language_info": {
   "codemirror_mode": {
    "name": "ipython",
    "version": 3
   },
   "file_extension": ".py",
   "mimetype": "text/x-python",
   "name": "python",
   "nbconvert_exporter": "python",
   "pygments_lexer": "ipython3",
   "version": "3.7.1"
  }
 },
 "nbformat": 4,
 "nbformat_minor": 2
}
